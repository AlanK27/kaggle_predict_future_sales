{
  "nbformat": 4,
  "nbformat_minor": 0,
  "metadata": {
    "colab": {
      "name": "final_predict_monthly_1.ipynb",
      "provenance": [],
      "collapsed_sections": [],
      "mount_file_id": "1ciL_2GPKsSFXAatqb7NiDP4gioAej3-t",
      "authorship_tag": "ABX9TyOUBn7oTkgIl3xtwguPNJ/Q"
    },
    "kernelspec": {
      "name": "python3",
      "display_name": "Python 3"
    }
  },
  "cells": [
    {
      "cell_type": "code",
      "metadata": {
        "id": "xFV4Xxzqur_m",
        "colab_type": "code",
        "colab": {
          "base_uri": "https://localhost:8080/",
          "height": 51
        },
        "outputId": "a22b88fd-f774-4615-8c58-8da164901dac"
      },
      "source": [
        "from itertools import product\n",
        "import matplotlib.pyplot as plt\n",
        "import numpy as np\n",
        "import pandas as pd\n",
        "import pickle\n",
        "import random\n",
        "import seaborn as sns\n",
        "from sklearn.preprocessing import LabelEncoder\n",
        "import time\n",
        "from zipfile import ZipFile"
      ],
      "execution_count": null,
      "outputs": [
        {
          "output_type": "stream",
          "text": [
            "/usr/local/lib/python3.6/dist-packages/statsmodels/tools/_testing.py:19: FutureWarning: pandas.util.testing is deprecated. Use the functions in the public API at pandas.testing instead.\n",
            "  import pandas.util.testing as tm\n"
          ],
          "name": "stderr"
        }
      ]
    },
    {
      "cell_type": "code",
      "metadata": {
        "id": "4amJ8o89uzi1",
        "colab_type": "code",
        "colab": {}
      },
      "source": [
        "zip = ZipFile('/content/drive/My Drive/datasets/predict_sales_month/sales_train.csv.zip')\n",
        "\n",
        "# p = 0.01\n",
        "# with zip.open('sales_train.csv', 'r') as z:\n",
        "#   df = pd.read_csv(z, skiprows= lambda x: x>0 and random.random() > p)\n",
        "\n",
        "with zip.open('sales_train.csv', 'r') as z:\n",
        "  df = pd.read_csv(z)\n",
        "\n",
        "zip = ZipFile('/content/drive/My Drive/datasets/predict_sales_month/items.csv.zip')\n",
        "\n",
        "with zip.open('items.csv', 'r') as z:\n",
        "  df_item = pd.read_csv(z)\n",
        "\n",
        "df_cat = pd.read_csv('/content/drive/My Drive/datasets/predict_sales_month/item_categories.csv')\n",
        "df_shop = pd.read_csv('/content/drive/My Drive/datasets/predict_sales_month/shops.csv')\n",
        "\n",
        "zip_test = ZipFile('/content/drive/My Drive/datasets/predict_sales_month/test.csv.zip')\n",
        "\n",
        "with zip_test.open('test.csv') as zip_t:\n",
        "  df_test = pd.read_csv(zip_t)"
      ],
      "execution_count": null,
      "outputs": []
    },
    {
      "cell_type": "code",
      "metadata": {
        "id": "8bpC9Ytguzg2",
        "colab_type": "code",
        "colab": {
          "base_uri": "https://localhost:8080/",
          "height": 204
        },
        "outputId": "5a14adfd-ea1c-4ceb-819c-62ee03d7d632"
      },
      "source": [
        "df.head()"
      ],
      "execution_count": null,
      "outputs": [
        {
          "output_type": "execute_result",
          "data": {
            "text/html": [
              "<div>\n",
              "<style scoped>\n",
              "    .dataframe tbody tr th:only-of-type {\n",
              "        vertical-align: middle;\n",
              "    }\n",
              "\n",
              "    .dataframe tbody tr th {\n",
              "        vertical-align: top;\n",
              "    }\n",
              "\n",
              "    .dataframe thead th {\n",
              "        text-align: right;\n",
              "    }\n",
              "</style>\n",
              "<table border=\"1\" class=\"dataframe\">\n",
              "  <thead>\n",
              "    <tr style=\"text-align: right;\">\n",
              "      <th></th>\n",
              "      <th>date</th>\n",
              "      <th>date_block_num</th>\n",
              "      <th>shop_id</th>\n",
              "      <th>item_id</th>\n",
              "      <th>item_price</th>\n",
              "      <th>item_cnt_day</th>\n",
              "    </tr>\n",
              "  </thead>\n",
              "  <tbody>\n",
              "    <tr>\n",
              "      <th>0</th>\n",
              "      <td>02.01.2013</td>\n",
              "      <td>0</td>\n",
              "      <td>59</td>\n",
              "      <td>22154</td>\n",
              "      <td>999.00</td>\n",
              "      <td>1.0</td>\n",
              "    </tr>\n",
              "    <tr>\n",
              "      <th>1</th>\n",
              "      <td>03.01.2013</td>\n",
              "      <td>0</td>\n",
              "      <td>25</td>\n",
              "      <td>2552</td>\n",
              "      <td>899.00</td>\n",
              "      <td>1.0</td>\n",
              "    </tr>\n",
              "    <tr>\n",
              "      <th>2</th>\n",
              "      <td>05.01.2013</td>\n",
              "      <td>0</td>\n",
              "      <td>25</td>\n",
              "      <td>2552</td>\n",
              "      <td>899.00</td>\n",
              "      <td>-1.0</td>\n",
              "    </tr>\n",
              "    <tr>\n",
              "      <th>3</th>\n",
              "      <td>06.01.2013</td>\n",
              "      <td>0</td>\n",
              "      <td>25</td>\n",
              "      <td>2554</td>\n",
              "      <td>1709.05</td>\n",
              "      <td>1.0</td>\n",
              "    </tr>\n",
              "    <tr>\n",
              "      <th>4</th>\n",
              "      <td>15.01.2013</td>\n",
              "      <td>0</td>\n",
              "      <td>25</td>\n",
              "      <td>2555</td>\n",
              "      <td>1099.00</td>\n",
              "      <td>1.0</td>\n",
              "    </tr>\n",
              "  </tbody>\n",
              "</table>\n",
              "</div>"
            ],
            "text/plain": [
              "         date  date_block_num  shop_id  item_id  item_price  item_cnt_day\n",
              "0  02.01.2013               0       59    22154      999.00           1.0\n",
              "1  03.01.2013               0       25     2552      899.00           1.0\n",
              "2  05.01.2013               0       25     2552      899.00          -1.0\n",
              "3  06.01.2013               0       25     2554     1709.05           1.0\n",
              "4  15.01.2013               0       25     2555     1099.00           1.0"
            ]
          },
          "metadata": {
            "tags": []
          },
          "execution_count": 3
        }
      ]
    },
    {
      "cell_type": "code",
      "metadata": {
        "id": "Gn25PyrTuzd8",
        "colab_type": "code",
        "colab": {
          "base_uri": "https://localhost:8080/",
          "height": 238
        },
        "outputId": "960f47e1-3ef2-4b9d-d800-5c492f43f8f7"
      },
      "source": [
        "df.info()"
      ],
      "execution_count": null,
      "outputs": [
        {
          "output_type": "stream",
          "text": [
            "<class 'pandas.core.frame.DataFrame'>\n",
            "RangeIndex: 2935849 entries, 0 to 2935848\n",
            "Data columns (total 6 columns):\n",
            " #   Column          Dtype  \n",
            "---  ------          -----  \n",
            " 0   date            object \n",
            " 1   date_block_num  int64  \n",
            " 2   shop_id         int64  \n",
            " 3   item_id         int64  \n",
            " 4   item_price      float64\n",
            " 5   item_cnt_day    float64\n",
            "dtypes: float64(2), int64(3), object(1)\n",
            "memory usage: 134.4+ MB\n"
          ],
          "name": "stdout"
        }
      ]
    },
    {
      "cell_type": "code",
      "metadata": {
        "id": "ORwDEcsybHTU",
        "colab_type": "code",
        "colab": {
          "base_uri": "https://localhost:8080/",
          "height": 297
        },
        "outputId": "33264fe2-e9ec-48cc-9a51-60a0cbe7f335"
      },
      "source": [
        "df.describe()"
      ],
      "execution_count": null,
      "outputs": [
        {
          "output_type": "execute_result",
          "data": {
            "text/html": [
              "<div>\n",
              "<style scoped>\n",
              "    .dataframe tbody tr th:only-of-type {\n",
              "        vertical-align: middle;\n",
              "    }\n",
              "\n",
              "    .dataframe tbody tr th {\n",
              "        vertical-align: top;\n",
              "    }\n",
              "\n",
              "    .dataframe thead th {\n",
              "        text-align: right;\n",
              "    }\n",
              "</style>\n",
              "<table border=\"1\" class=\"dataframe\">\n",
              "  <thead>\n",
              "    <tr style=\"text-align: right;\">\n",
              "      <th></th>\n",
              "      <th>date_block_num</th>\n",
              "      <th>shop_id</th>\n",
              "      <th>item_id</th>\n",
              "      <th>item_price</th>\n",
              "      <th>item_cnt_day</th>\n",
              "    </tr>\n",
              "  </thead>\n",
              "  <tbody>\n",
              "    <tr>\n",
              "      <th>count</th>\n",
              "      <td>2.935849e+06</td>\n",
              "      <td>2.935849e+06</td>\n",
              "      <td>2.935849e+06</td>\n",
              "      <td>2.935849e+06</td>\n",
              "      <td>2.935849e+06</td>\n",
              "    </tr>\n",
              "    <tr>\n",
              "      <th>mean</th>\n",
              "      <td>1.456991e+01</td>\n",
              "      <td>3.300173e+01</td>\n",
              "      <td>1.019723e+04</td>\n",
              "      <td>8.908532e+02</td>\n",
              "      <td>1.242641e+00</td>\n",
              "    </tr>\n",
              "    <tr>\n",
              "      <th>std</th>\n",
              "      <td>9.422988e+00</td>\n",
              "      <td>1.622697e+01</td>\n",
              "      <td>6.324297e+03</td>\n",
              "      <td>1.729800e+03</td>\n",
              "      <td>2.618834e+00</td>\n",
              "    </tr>\n",
              "    <tr>\n",
              "      <th>min</th>\n",
              "      <td>0.000000e+00</td>\n",
              "      <td>0.000000e+00</td>\n",
              "      <td>0.000000e+00</td>\n",
              "      <td>-1.000000e+00</td>\n",
              "      <td>-2.200000e+01</td>\n",
              "    </tr>\n",
              "    <tr>\n",
              "      <th>25%</th>\n",
              "      <td>7.000000e+00</td>\n",
              "      <td>2.200000e+01</td>\n",
              "      <td>4.476000e+03</td>\n",
              "      <td>2.490000e+02</td>\n",
              "      <td>1.000000e+00</td>\n",
              "    </tr>\n",
              "    <tr>\n",
              "      <th>50%</th>\n",
              "      <td>1.400000e+01</td>\n",
              "      <td>3.100000e+01</td>\n",
              "      <td>9.343000e+03</td>\n",
              "      <td>3.990000e+02</td>\n",
              "      <td>1.000000e+00</td>\n",
              "    </tr>\n",
              "    <tr>\n",
              "      <th>75%</th>\n",
              "      <td>2.300000e+01</td>\n",
              "      <td>4.700000e+01</td>\n",
              "      <td>1.568400e+04</td>\n",
              "      <td>9.990000e+02</td>\n",
              "      <td>1.000000e+00</td>\n",
              "    </tr>\n",
              "    <tr>\n",
              "      <th>max</th>\n",
              "      <td>3.300000e+01</td>\n",
              "      <td>5.900000e+01</td>\n",
              "      <td>2.216900e+04</td>\n",
              "      <td>3.079800e+05</td>\n",
              "      <td>2.169000e+03</td>\n",
              "    </tr>\n",
              "  </tbody>\n",
              "</table>\n",
              "</div>"
            ],
            "text/plain": [
              "       date_block_num       shop_id       item_id    item_price  item_cnt_day\n",
              "count    2.935849e+06  2.935849e+06  2.935849e+06  2.935849e+06  2.935849e+06\n",
              "mean     1.456991e+01  3.300173e+01  1.019723e+04  8.908532e+02  1.242641e+00\n",
              "std      9.422988e+00  1.622697e+01  6.324297e+03  1.729800e+03  2.618834e+00\n",
              "min      0.000000e+00  0.000000e+00  0.000000e+00 -1.000000e+00 -2.200000e+01\n",
              "25%      7.000000e+00  2.200000e+01  4.476000e+03  2.490000e+02  1.000000e+00\n",
              "50%      1.400000e+01  3.100000e+01  9.343000e+03  3.990000e+02  1.000000e+00\n",
              "75%      2.300000e+01  4.700000e+01  1.568400e+04  9.990000e+02  1.000000e+00\n",
              "max      3.300000e+01  5.900000e+01  2.216900e+04  3.079800e+05  2.169000e+03"
            ]
          },
          "metadata": {
            "tags": []
          },
          "execution_count": 5
        }
      ]
    },
    {
      "cell_type": "code",
      "metadata": {
        "id": "eVccwR3nksOH",
        "colab_type": "code",
        "colab": {}
      },
      "source": [
        "df.drop('date', axis=1, inplace=True)"
      ],
      "execution_count": null,
      "outputs": []
    },
    {
      "cell_type": "code",
      "metadata": {
        "id": "1_G3nOz3dx9D",
        "colab_type": "code",
        "colab": {
          "base_uri": "https://localhost:8080/",
          "height": 34
        },
        "outputId": "0c03eca0-c56b-4776-d010-d792d9ee02ec"
      },
      "source": [
        "df.columns"
      ],
      "execution_count": null,
      "outputs": [
        {
          "output_type": "execute_result",
          "data": {
            "text/plain": [
              "Index(['date_block_num', 'shop_id', 'item_id', 'item_price', 'item_cnt_day'], dtype='object')"
            ]
          },
          "metadata": {
            "tags": []
          },
          "execution_count": 7
        }
      ]
    },
    {
      "cell_type": "code",
      "metadata": {
        "id": "4PnX-20edzlj",
        "colab_type": "code",
        "colab": {}
      },
      "source": [
        "for n in ['date_block_num', 'shop_id']:\n",
        "  df[n] = df[n].astype(np.int8)\n",
        "df['item_id'] = df['item_id'].astype(np.int16)\n",
        "df['item_price'] = df['item_price'].astype(np.float32)\n",
        "df['item_cnt_day'] = df['item_cnt_day'].astype(np.int16)"
      ],
      "execution_count": null,
      "outputs": []
    },
    {
      "cell_type": "code",
      "metadata": {
        "id": "LqjFXc1ccKQz",
        "colab_type": "code",
        "colab": {
          "base_uri": "https://localhost:8080/",
          "height": 221
        },
        "outputId": "6b54bc17-98bb-42e9-8cf2-265a785c49cc"
      },
      "source": [
        "df.info()"
      ],
      "execution_count": null,
      "outputs": [
        {
          "output_type": "stream",
          "text": [
            "<class 'pandas.core.frame.DataFrame'>\n",
            "RangeIndex: 2935849 entries, 0 to 2935848\n",
            "Data columns (total 5 columns):\n",
            " #   Column          Dtype  \n",
            "---  ------          -----  \n",
            " 0   date_block_num  int8   \n",
            " 1   shop_id         int8   \n",
            " 2   item_id         int16  \n",
            " 3   item_price      float32\n",
            " 4   item_cnt_day    int16  \n",
            "dtypes: float32(1), int16(2), int8(2)\n",
            "memory usage: 28.0 MB\n"
          ],
          "name": "stdout"
        }
      ]
    },
    {
      "cell_type": "code",
      "metadata": {
        "id": "H0w9AlgBev05",
        "colab_type": "code",
        "colab": {
          "base_uri": "https://localhost:8080/",
          "height": 204
        },
        "outputId": "894ecca7-0de7-4942-c492-8602c9a7462c"
      },
      "source": [
        "df.head()"
      ],
      "execution_count": null,
      "outputs": [
        {
          "output_type": "execute_result",
          "data": {
            "text/html": [
              "<div>\n",
              "<style scoped>\n",
              "    .dataframe tbody tr th:only-of-type {\n",
              "        vertical-align: middle;\n",
              "    }\n",
              "\n",
              "    .dataframe tbody tr th {\n",
              "        vertical-align: top;\n",
              "    }\n",
              "\n",
              "    .dataframe thead th {\n",
              "        text-align: right;\n",
              "    }\n",
              "</style>\n",
              "<table border=\"1\" class=\"dataframe\">\n",
              "  <thead>\n",
              "    <tr style=\"text-align: right;\">\n",
              "      <th></th>\n",
              "      <th>date_block_num</th>\n",
              "      <th>shop_id</th>\n",
              "      <th>item_id</th>\n",
              "      <th>item_price</th>\n",
              "      <th>item_cnt_day</th>\n",
              "    </tr>\n",
              "  </thead>\n",
              "  <tbody>\n",
              "    <tr>\n",
              "      <th>0</th>\n",
              "      <td>0</td>\n",
              "      <td>59</td>\n",
              "      <td>22154</td>\n",
              "      <td>999.000000</td>\n",
              "      <td>1</td>\n",
              "    </tr>\n",
              "    <tr>\n",
              "      <th>1</th>\n",
              "      <td>0</td>\n",
              "      <td>25</td>\n",
              "      <td>2552</td>\n",
              "      <td>899.000000</td>\n",
              "      <td>1</td>\n",
              "    </tr>\n",
              "    <tr>\n",
              "      <th>2</th>\n",
              "      <td>0</td>\n",
              "      <td>25</td>\n",
              "      <td>2552</td>\n",
              "      <td>899.000000</td>\n",
              "      <td>-1</td>\n",
              "    </tr>\n",
              "    <tr>\n",
              "      <th>3</th>\n",
              "      <td>0</td>\n",
              "      <td>25</td>\n",
              "      <td>2554</td>\n",
              "      <td>1709.050049</td>\n",
              "      <td>1</td>\n",
              "    </tr>\n",
              "    <tr>\n",
              "      <th>4</th>\n",
              "      <td>0</td>\n",
              "      <td>25</td>\n",
              "      <td>2555</td>\n",
              "      <td>1099.000000</td>\n",
              "      <td>1</td>\n",
              "    </tr>\n",
              "  </tbody>\n",
              "</table>\n",
              "</div>"
            ],
            "text/plain": [
              "   date_block_num  shop_id  item_id   item_price  item_cnt_day\n",
              "0               0       59    22154   999.000000             1\n",
              "1               0       25     2552   899.000000             1\n",
              "2               0       25     2552   899.000000            -1\n",
              "3               0       25     2554  1709.050049             1\n",
              "4               0       25     2555  1099.000000             1"
            ]
          },
          "metadata": {
            "tags": []
          },
          "execution_count": 10
        }
      ]
    },
    {
      "cell_type": "markdown",
      "metadata": {
        "id": "hNjW7wT-3PY-",
        "colab_type": "text"
      },
      "source": [
        "Exploring df"
      ]
    },
    {
      "cell_type": "code",
      "metadata": {
        "id": "pqnPqjWS3N0P",
        "colab_type": "code",
        "colab": {
          "base_uri": "https://localhost:8080/",
          "height": 297
        },
        "outputId": "ff326e09-73eb-4491-80aa-eccf7c5e2df1"
      },
      "source": [
        "data = df.groupby('date_block_num').agg({'item_cnt_day':'sum'}).reset_index()\n",
        "\n",
        "sns.lineplot(\n",
        "    x = 'date_block_num', y= 'item_cnt_day', data=data\n",
        "\n",
        ")"
      ],
      "execution_count": null,
      "outputs": [
        {
          "output_type": "execute_result",
          "data": {
            "text/plain": [
              "<matplotlib.axes._subplots.AxesSubplot at 0x7f3d8a7a4080>"
            ]
          },
          "metadata": {
            "tags": []
          },
          "execution_count": 11
        },
        {
          "output_type": "display_data",
          "data": {
            "image/png": "[encoded data removed]",
            "text/plain": [
              "<Figure size 432x288 with 1 Axes>"
            ]
          },
          "metadata": {
            "tags": [],
            "needs_background": "light"
          }
        }
      ]
    },
    {
      "cell_type": "code",
      "metadata": {
        "id": "5DEdilp33PDj",
        "colab_type": "code",
        "colab": {
          "base_uri": "https://localhost:8080/",
          "height": 297
        },
        "outputId": "534b6b95-c26f-4312-82f0-f7c59a82ad47"
      },
      "source": [
        "sns.boxplot(df['item_price'])"
      ],
      "execution_count": null,
      "outputs": [
        {
          "output_type": "execute_result",
          "data": {
            "text/plain": [
              "<matplotlib.axes._subplots.AxesSubplot at 0x7f3d8a6b4780>"
            ]
          },
          "metadata": {
            "tags": []
          },
          "execution_count": 12
        },
        {
          "output_type": "display_data",
          "data": {
            "image/png": "[encoded data removed]",
            "text/plain": [
              "<Figure size 432x288 with 1 Axes>"
            ]
          },
          "metadata": {
            "tags": [],
            "needs_background": "light"
          }
        }
      ]
    },
    {
      "cell_type": "code",
      "metadata": {
        "id": "IPX0whmn3N8O",
        "colab_type": "code",
        "colab": {}
      },
      "source": [
        "df = df[df['item_price']<200000]"
      ],
      "execution_count": null,
      "outputs": []
    },
    {
      "cell_type": "code",
      "metadata": {
        "id": "MdJKWXQc3N3q",
        "colab_type": "code",
        "colab": {
          "base_uri": "https://localhost:8080/",
          "height": 297
        },
        "outputId": "f7ecdc6e-8c34-462c-cfcd-ea77c7ee63e0"
      },
      "source": [
        "sns.boxplot(df['item_cnt_day'])"
      ],
      "execution_count": null,
      "outputs": [
        {
          "output_type": "execute_result",
          "data": {
            "text/plain": [
              "<matplotlib.axes._subplots.AxesSubplot at 0x7f3d8a21bd68>"
            ]
          },
          "metadata": {
            "tags": []
          },
          "execution_count": 14
        },
        {
          "output_type": "display_data",
          "data": {
            "image/png": "[encoded data removed]",
            "text/plain": [
              "<Figure size 432x288 with 1 Axes>"
            ]
          },
          "metadata": {
            "tags": [],
            "needs_background": "light"
          }
        }
      ]
    },
    {
      "cell_type": "code",
      "metadata": {
        "id": "usYlA97Q3Nvo",
        "colab_type": "code",
        "colab": {}
      },
      "source": [
        "df = df[df['item_cnt_day']<1000]"
      ],
      "execution_count": null,
      "outputs": []
    },
    {
      "cell_type": "code",
      "metadata": {
        "id": "TwSnQ6oW5zLB",
        "colab_type": "code",
        "colab": {}
      },
      "source": [
        "df = df[df['item_price']>0]\n",
        "df = df[df['item_cnt_day']>0]"
      ],
      "execution_count": null,
      "outputs": []
    },
    {
      "cell_type": "markdown",
      "metadata": {
        "id": "kLE0-x525oT7",
        "colab_type": "text"
      },
      "source": [
        "Id fixes"
      ]
    },
    {
      "cell_type": "code",
      "metadata": {
        "id": "H1vdN24Q5nq2",
        "colab_type": "code",
        "colab": {}
      },
      "source": [
        "df.loc[df.shop_id == 0, 'shop_id'] = 57\n",
        "df_test.loc[df_test.shop_id == 0, 'shop_id'] = 57\n",
        "# Якутск ТЦ \"Центральный\"\n",
        "df.loc[df.shop_id == 1, 'shop_id'] = 58\n",
        "df_test.loc[df_test.shop_id == 1, 'shop_id'] = 58\n",
        "# Жуковский ул. Чкалова 39м²\n",
        "df.loc[df.shop_id == 10, 'shop_id'] = 11\n",
        "df_test.loc[df_test.shop_id == 10, 'shop_id'] = 11"
      ],
      "execution_count": null,
      "outputs": []
    },
    {
      "cell_type": "markdown",
      "metadata": {
        "id": "8hcx50UQqjUR",
        "colab_type": "text"
      },
      "source": [
        "Combine all the days into cnt month"
      ]
    },
    {
      "cell_type": "code",
      "metadata": {
        "id": "bjZ6xTvvqi8d",
        "colab_type": "code",
        "colab": {}
      },
      "source": [
        "ls = df.groupby(['date_block_num','shop_id', 'item_id']).agg({'item_cnt_day':'sum'})\n",
        "ls.columns = ['item_cnt_month']\n",
        "ls.reset_index(inplace=True)"
      ],
      "execution_count": null,
      "outputs": []
    },
    {
      "cell_type": "code",
      "metadata": {
        "id": "LiCqUxehqix3",
        "colab_type": "code",
        "colab": {}
      },
      "source": [
        "df = pd.merge(df, ls, how='left', on=['date_block_num','shop_id', 'item_id'])"
      ],
      "execution_count": null,
      "outputs": []
    },
    {
      "cell_type": "code",
      "metadata": {
        "id": "LwfewiDXrbqg",
        "colab_type": "code",
        "colab": {}
      },
      "source": [
        "df.drop('item_cnt_day', axis=1, inplace=True)"
      ],
      "execution_count": null,
      "outputs": []
    },
    {
      "cell_type": "markdown",
      "metadata": {
        "id": "llDpGTxu7g6o",
        "colab_type": "text"
      },
      "source": [
        "Making the matrix"
      ]
    },
    {
      "cell_type": "code",
      "metadata": {
        "id": "OINMJ36D7geu",
        "colab_type": "code",
        "colab": {}
      },
      "source": [
        "cols = ['date_block_num', 'shop_id', 'item_id']"
      ],
      "execution_count": null,
      "outputs": []
    },
    {
      "cell_type": "code",
      "metadata": {
        "id": "roIGo_794yhc",
        "colab_type": "code",
        "colab": {}
      },
      "source": [
        "cols = ['date_block_num', 'shop_id', 'item_id']\n",
        "mat =[]\n",
        "\n",
        "for n in range(0,34):\n",
        "  df_v1 = df[df.date_block_num == n]\n",
        "  df_v = df_v1.copy()\n",
        "  mat.append(np.array(list(product([n], df_v.shop_id.unique(), df_v.item_id.unique())), dtype = np.int16))\n",
        "\n",
        "mat = pd.DataFrame(np.vstack(mat), columns=cols)\n"
      ],
      "execution_count": null,
      "outputs": []
    },
    {
      "cell_type": "code",
      "metadata": {
        "id": "C_GNynYG4y1f",
        "colab_type": "code",
        "colab": {
          "base_uri": "https://localhost:8080/",
          "height": 204
        },
        "outputId": "b880c9f8-163c-4535-8b60-35dacc44d39c"
      },
      "source": [
        "mat.head()"
      ],
      "execution_count": null,
      "outputs": [
        {
          "output_type": "execute_result",
          "data": {
            "text/html": [
              "<div>\n",
              "<style scoped>\n",
              "    .dataframe tbody tr th:only-of-type {\n",
              "        vertical-align: middle;\n",
              "    }\n",
              "\n",
              "    .dataframe tbody tr th {\n",
              "        vertical-align: top;\n",
              "    }\n",
              "\n",
              "    .dataframe thead th {\n",
              "        text-align: right;\n",
              "    }\n",
              "</style>\n",
              "<table border=\"1\" class=\"dataframe\">\n",
              "  <thead>\n",
              "    <tr style=\"text-align: right;\">\n",
              "      <th></th>\n",
              "      <th>date_block_num</th>\n",
              "      <th>shop_id</th>\n",
              "      <th>item_id</th>\n",
              "    </tr>\n",
              "  </thead>\n",
              "  <tbody>\n",
              "    <tr>\n",
              "      <th>0</th>\n",
              "      <td>0</td>\n",
              "      <td>59</td>\n",
              "      <td>22154</td>\n",
              "    </tr>\n",
              "    <tr>\n",
              "      <th>1</th>\n",
              "      <td>0</td>\n",
              "      <td>59</td>\n",
              "      <td>2552</td>\n",
              "    </tr>\n",
              "    <tr>\n",
              "      <th>2</th>\n",
              "      <td>0</td>\n",
              "      <td>59</td>\n",
              "      <td>2554</td>\n",
              "    </tr>\n",
              "    <tr>\n",
              "      <th>3</th>\n",
              "      <td>0</td>\n",
              "      <td>59</td>\n",
              "      <td>2555</td>\n",
              "    </tr>\n",
              "    <tr>\n",
              "      <th>4</th>\n",
              "      <td>0</td>\n",
              "      <td>59</td>\n",
              "      <td>2564</td>\n",
              "    </tr>\n",
              "  </tbody>\n",
              "</table>\n",
              "</div>"
            ],
            "text/plain": [
              "   date_block_num  shop_id  item_id\n",
              "0               0       59    22154\n",
              "1               0       59     2552\n",
              "2               0       59     2554\n",
              "3               0       59     2555\n",
              "4               0       59     2564"
            ]
          },
          "metadata": {
            "tags": []
          },
          "execution_count": 23
        }
      ]
    },
    {
      "cell_type": "code",
      "metadata": {
        "id": "G8KhfoZu4zGf",
        "colab_type": "code",
        "colab": {
          "base_uri": "https://localhost:8080/",
          "height": 187
        },
        "outputId": "8cc796e4-9f00-4ce0-8c0b-f32b49d731d4"
      },
      "source": [
        "mat.info()"
      ],
      "execution_count": null,
      "outputs": [
        {
          "output_type": "stream",
          "text": [
            "<class 'pandas.core.frame.DataFrame'>\n",
            "RangeIndex: 10884508 entries, 0 to 10884507\n",
            "Data columns (total 3 columns):\n",
            " #   Column          Dtype\n",
            "---  ------          -----\n",
            " 0   date_block_num  int16\n",
            " 1   shop_id         int16\n",
            " 2   item_id         int16\n",
            "dtypes: int16(3)\n",
            "memory usage: 62.3 MB\n"
          ],
          "name": "stdout"
        }
      ]
    },
    {
      "cell_type": "markdown",
      "metadata": {
        "id": "fMavdHZtNA28",
        "colab_type": "text"
      },
      "source": [
        "Concat df_test"
      ]
    },
    {
      "cell_type": "code",
      "metadata": {
        "id": "uO1SuMWI4yoe",
        "colab_type": "code",
        "colab": {}
      },
      "source": [
        "df_test.drop('ID', axis=1, inplace=True)\n",
        "df_test['date_block_num'] = 34\n",
        "mat = pd.concat([mat, df_test], ignore_index=True, sort=False, keys=cols)"
      ],
      "execution_count": null,
      "outputs": []
    },
    {
      "cell_type": "code",
      "metadata": {
        "id": "ajcWgv6p9SBJ",
        "colab_type": "code",
        "colab": {}
      },
      "source": [
        ""
      ],
      "execution_count": null,
      "outputs": []
    },
    {
      "cell_type": "code",
      "metadata": {
        "id": "SviYfTsj4yeI",
        "colab_type": "code",
        "colab": {}
      },
      "source": [
        ""
      ],
      "execution_count": null,
      "outputs": []
    },
    {
      "cell_type": "code",
      "metadata": {
        "id": "zou1sU7TBnKm",
        "colab_type": "code",
        "colab": {
          "base_uri": "https://localhost:8080/",
          "height": 315
        },
        "outputId": "3da9c2a0-0cfd-4f2e-957d-b09a9fe910fa"
      },
      "source": [
        "df.groupby('item_id').agg({'item_price':'nunique'}).hist()"
      ],
      "execution_count": null,
      "outputs": [
        {
          "output_type": "execute_result",
          "data": {
            "text/plain": [
              "array([[<matplotlib.axes._subplots.AxesSubplot object at 0x7f3d893026d8>]],\n",
              "      dtype=object)"
            ]
          },
          "metadata": {
            "tags": []
          },
          "execution_count": 26
        },
        {
          "output_type": "display_data",
          "data": {
            "image/png": "[encoded data removed]",
            "text/plain": [
              "<Figure size 432x288 with 1 Axes>"
            ]
          },
          "metadata": {
            "tags": [],
            "needs_background": "light"
          }
        }
      ]
    },
    {
      "cell_type": "code",
      "metadata": {
        "id": "-3JQYZhPBnai",
        "colab_type": "code",
        "colab": {
          "base_uri": "https://localhost:8080/",
          "height": 390
        },
        "outputId": "d438c832-de27-4efb-92eb-49a047dd1d6a"
      },
      "source": [
        "df.groupby('item_id').agg({'item_price':'nunique'}).sort_values(by='item_price', ascending=False).head(10)"
      ],
      "execution_count": null,
      "outputs": [
        {
          "output_type": "execute_result",
          "data": {
            "text/html": [
              "<div>\n",
              "<style scoped>\n",
              "    .dataframe tbody tr th:only-of-type {\n",
              "        vertical-align: middle;\n",
              "    }\n",
              "\n",
              "    .dataframe tbody tr th {\n",
              "        vertical-align: top;\n",
              "    }\n",
              "\n",
              "    .dataframe thead th {\n",
              "        text-align: right;\n",
              "    }\n",
              "</style>\n",
              "<table border=\"1\" class=\"dataframe\">\n",
              "  <thead>\n",
              "    <tr style=\"text-align: right;\">\n",
              "      <th></th>\n",
              "      <th>item_price</th>\n",
              "    </tr>\n",
              "    <tr>\n",
              "      <th>item_id</th>\n",
              "      <th></th>\n",
              "    </tr>\n",
              "  </thead>\n",
              "  <tbody>\n",
              "    <tr>\n",
              "      <th>17717</th>\n",
              "      <td>1601</td>\n",
              "    </tr>\n",
              "    <tr>\n",
              "      <th>11373</th>\n",
              "      <td>426</td>\n",
              "    </tr>\n",
              "    <tr>\n",
              "      <th>11369</th>\n",
              "      <td>344</td>\n",
              "    </tr>\n",
              "    <tr>\n",
              "      <th>11370</th>\n",
              "      <td>335</td>\n",
              "    </tr>\n",
              "    <tr>\n",
              "      <th>6675</th>\n",
              "      <td>217</td>\n",
              "    </tr>\n",
              "    <tr>\n",
              "      <th>3732</th>\n",
              "      <td>215</td>\n",
              "    </tr>\n",
              "    <tr>\n",
              "      <th>11365</th>\n",
              "      <td>207</td>\n",
              "    </tr>\n",
              "    <tr>\n",
              "      <th>3731</th>\n",
              "      <td>198</td>\n",
              "    </tr>\n",
              "    <tr>\n",
              "      <th>1855</th>\n",
              "      <td>182</td>\n",
              "    </tr>\n",
              "    <tr>\n",
              "      <th>3734</th>\n",
              "      <td>166</td>\n",
              "    </tr>\n",
              "  </tbody>\n",
              "</table>\n",
              "</div>"
            ],
            "text/plain": [
              "         item_price\n",
              "item_id            \n",
              "17717          1601\n",
              "11373           426\n",
              "11369           344\n",
              "11370           335\n",
              "6675            217\n",
              "3732            215\n",
              "11365           207\n",
              "3731            198\n",
              "1855            182\n",
              "3734            166"
            ]
          },
          "metadata": {
            "tags": []
          },
          "execution_count": 27
        }
      ]
    },
    {
      "cell_type": "markdown",
      "metadata": {
        "id": "QCjIOiB_CyzT",
        "colab_type": "text"
      },
      "source": [
        "Prices are everywhere for several items, using a mean to map the prices at month 34"
      ]
    },
    {
      "cell_type": "code",
      "metadata": {
        "id": "kVz6Ds7vBnXa",
        "colab_type": "code",
        "colab": {}
      },
      "source": [
        "ls = df.groupby('item_id').agg({'item_price':'mean'}).sort_values(by='item_price', ascending=False)\n",
        "ls.columns = ['item_price']\n",
        "ls.reset_index(inplace=True)\n",
        "ls['date_block_num'] = 34\n",
        "\n",
        "mat = pd.merge(mat, ls, how='left', on =['item_id', 'date_block_num'])"
      ],
      "execution_count": null,
      "outputs": []
    },
    {
      "cell_type": "code",
      "metadata": {
        "id": "SA9soOR-S2tG",
        "colab_type": "code",
        "colab": {}
      },
      "source": [
        "mat = pd.merge(mat, df, how='left', on =cols)"
      ],
      "execution_count": null,
      "outputs": []
    },
    {
      "cell_type": "code",
      "metadata": {
        "id": "-Mk_1zUQBmid",
        "colab_type": "code",
        "colab": {}
      },
      "source": [
        "mat['item_price'] = mat['item_price_x'].combine_first(mat['item_price_y'])\n",
        "mat.drop(['item_price_x','item_price_y'], axis=1, inplace=True)"
      ],
      "execution_count": null,
      "outputs": []
    },
    {
      "cell_type": "code",
      "metadata": {
        "id": "5E9q1GfmL3lp",
        "colab_type": "code",
        "colab": {
          "base_uri": "https://localhost:8080/",
          "height": 221
        },
        "outputId": "f52516b6-d2d5-409b-db69-6438580f94ab"
      },
      "source": [
        "mat.info()"
      ],
      "execution_count": null,
      "outputs": [
        {
          "output_type": "stream",
          "text": [
            "<class 'pandas.core.frame.DataFrame'>\n",
            "Int64Index: 12418973 entries, 0 to 12418972\n",
            "Data columns (total 5 columns):\n",
            " #   Column          Dtype  \n",
            "---  ------          -----  \n",
            " 0   date_block_num  int64  \n",
            " 1   shop_id         int64  \n",
            " 2   item_id         int64  \n",
            " 3   item_cnt_month  float64\n",
            " 4   item_price      float32\n",
            "dtypes: float32(1), float64(1), int64(3)\n",
            "memory usage: 521.1 MB\n"
          ],
          "name": "stdout"
        }
      ]
    },
    {
      "cell_type": "code",
      "metadata": {
        "id": "wYjP4-ACg_7u",
        "colab_type": "code",
        "colab": {
          "base_uri": "https://localhost:8080/",
          "height": 297
        },
        "outputId": "402210b8-94f8-4c74-99f6-9ddc73f80f39"
      },
      "source": [
        "mat.describe()"
      ],
      "execution_count": null,
      "outputs": [
        {
          "output_type": "execute_result",
          "data": {
            "text/html": [
              "<div>\n",
              "<style scoped>\n",
              "    .dataframe tbody tr th:only-of-type {\n",
              "        vertical-align: middle;\n",
              "    }\n",
              "\n",
              "    .dataframe tbody tr th {\n",
              "        vertical-align: top;\n",
              "    }\n",
              "\n",
              "    .dataframe thead th {\n",
              "        text-align: right;\n",
              "    }\n",
              "</style>\n",
              "<table border=\"1\" class=\"dataframe\">\n",
              "  <thead>\n",
              "    <tr style=\"text-align: right;\">\n",
              "      <th></th>\n",
              "      <th>date_block_num</th>\n",
              "      <th>shop_id</th>\n",
              "      <th>item_id</th>\n",
              "      <th>item_cnt_month</th>\n",
              "      <th>item_price</th>\n",
              "    </tr>\n",
              "  </thead>\n",
              "  <tbody>\n",
              "    <tr>\n",
              "      <th>count</th>\n",
              "      <td>1.241897e+07</td>\n",
              "      <td>1.241897e+07</td>\n",
              "      <td>1.241897e+07</td>\n",
              "      <td>2.928489e+06</td>\n",
              "      <td>3.127443e+06</td>\n",
              "    </tr>\n",
              "    <tr>\n",
              "      <th>mean</th>\n",
              "      <td>1.523615e+01</td>\n",
              "      <td>3.164199e+01</td>\n",
              "      <td>1.112478e+04</td>\n",
              "      <td>7.405118e+00</td>\n",
              "      <td>8.981953e+02</td>\n",
              "    </tr>\n",
              "    <tr>\n",
              "      <th>std</th>\n",
              "      <td>9.706114e+00</td>\n",
              "      <td>1.715907e+01</td>\n",
              "      <td>6.250750e+03</td>\n",
              "      <td>2.981560e+01</td>\n",
              "      <td>1.730853e+03</td>\n",
              "    </tr>\n",
              "    <tr>\n",
              "      <th>min</th>\n",
              "      <td>0.000000e+00</td>\n",
              "      <td>2.000000e+00</td>\n",
              "      <td>0.000000e+00</td>\n",
              "      <td>1.000000e+00</td>\n",
              "      <td>7.000000e-02</td>\n",
              "    </tr>\n",
              "    <tr>\n",
              "      <th>25%</th>\n",
              "      <td>7.000000e+00</td>\n",
              "      <td>1.700000e+01</td>\n",
              "      <td>5.630000e+03</td>\n",
              "      <td>1.000000e+00</td>\n",
              "      <td>2.490000e+02</td>\n",
              "    </tr>\n",
              "    <tr>\n",
              "      <th>50%</th>\n",
              "      <td>1.500000e+01</td>\n",
              "      <td>3.100000e+01</td>\n",
              "      <td>1.116200e+04</td>\n",
              "      <td>2.000000e+00</td>\n",
              "      <td>3.990000e+02</td>\n",
              "    </tr>\n",
              "    <tr>\n",
              "      <th>75%</th>\n",
              "      <td>2.300000e+01</td>\n",
              "      <td>4.700000e+01</td>\n",
              "      <td>1.646700e+04</td>\n",
              "      <td>5.000000e+00</td>\n",
              "      <td>9.990000e+02</td>\n",
              "    </tr>\n",
              "    <tr>\n",
              "      <th>max</th>\n",
              "      <td>3.400000e+01</td>\n",
              "      <td>5.900000e+01</td>\n",
              "      <td>2.216900e+04</td>\n",
              "      <td>1.644000e+03</td>\n",
              "      <td>5.920000e+04</td>\n",
              "    </tr>\n",
              "  </tbody>\n",
              "</table>\n",
              "</div>"
            ],
            "text/plain": [
              "       date_block_num       shop_id       item_id  item_cnt_month    item_price\n",
              "count    1.241897e+07  1.241897e+07  1.241897e+07    2.928489e+06  3.127443e+06\n",
              "mean     1.523615e+01  3.164199e+01  1.112478e+04    7.405118e+00  8.981953e+02\n",
              "std      9.706114e+00  1.715907e+01  6.250750e+03    2.981560e+01  1.730853e+03\n",
              "min      0.000000e+00  2.000000e+00  0.000000e+00    1.000000e+00  7.000000e-02\n",
              "25%      7.000000e+00  1.700000e+01  5.630000e+03    1.000000e+00  2.490000e+02\n",
              "50%      1.500000e+01  3.100000e+01  1.116200e+04    2.000000e+00  3.990000e+02\n",
              "75%      2.300000e+01  4.700000e+01  1.646700e+04    5.000000e+00  9.990000e+02\n",
              "max      3.400000e+01  5.900000e+01  2.216900e+04    1.644000e+03  5.920000e+04"
            ]
          },
          "metadata": {
            "tags": []
          },
          "execution_count": 32
        }
      ]
    },
    {
      "cell_type": "markdown",
      "metadata": {
        "id": "I7_gZMvrxLwb",
        "colab_type": "text"
      },
      "source": [
        "Expand Cat"
      ]
    },
    {
      "cell_type": "code",
      "metadata": {
        "id": "E5HZccDquzWS",
        "colab_type": "code",
        "colab": {
          "base_uri": "https://localhost:8080/",
          "height": 204
        },
        "outputId": "0f626152-e043-41d3-d2bc-8ffc793a5b54"
      },
      "source": [
        "df_cat.head()"
      ],
      "execution_count": null,
      "outputs": [
        {
          "output_type": "execute_result",
          "data": {
            "text/html": [
              "<div>\n",
              "<style scoped>\n",
              "    .dataframe tbody tr th:only-of-type {\n",
              "        vertical-align: middle;\n",
              "    }\n",
              "\n",
              "    .dataframe tbody tr th {\n",
              "        vertical-align: top;\n",
              "    }\n",
              "\n",
              "    .dataframe thead th {\n",
              "        text-align: right;\n",
              "    }\n",
              "</style>\n",
              "<table border=\"1\" class=\"dataframe\">\n",
              "  <thead>\n",
              "    <tr style=\"text-align: right;\">\n",
              "      <th></th>\n",
              "      <th>item_category_name</th>\n",
              "      <th>item_category_id</th>\n",
              "    </tr>\n",
              "  </thead>\n",
              "  <tbody>\n",
              "    <tr>\n",
              "      <th>0</th>\n",
              "      <td>PC - Гарнитуры/Наушники</td>\n",
              "      <td>0</td>\n",
              "    </tr>\n",
              "    <tr>\n",
              "      <th>1</th>\n",
              "      <td>Аксессуары - PS2</td>\n",
              "      <td>1</td>\n",
              "    </tr>\n",
              "    <tr>\n",
              "      <th>2</th>\n",
              "      <td>Аксессуары - PS3</td>\n",
              "      <td>2</td>\n",
              "    </tr>\n",
              "    <tr>\n",
              "      <th>3</th>\n",
              "      <td>Аксессуары - PS4</td>\n",
              "      <td>3</td>\n",
              "    </tr>\n",
              "    <tr>\n",
              "      <th>4</th>\n",
              "      <td>Аксессуары - PSP</td>\n",
              "      <td>4</td>\n",
              "    </tr>\n",
              "  </tbody>\n",
              "</table>\n",
              "</div>"
            ],
            "text/plain": [
              "        item_category_name  item_category_id\n",
              "0  PC - Гарнитуры/Наушники                 0\n",
              "1         Аксессуары - PS2                 1\n",
              "2         Аксессуары - PS3                 2\n",
              "3         Аксессуары - PS4                 3\n",
              "4         Аксессуары - PSP                 4"
            ]
          },
          "metadata": {
            "tags": []
          },
          "execution_count": 33
        }
      ]
    },
    {
      "cell_type": "code",
      "metadata": {
        "id": "rL8DoOTGxLWN",
        "colab_type": "code",
        "colab": {}
      },
      "source": [
        "df_cat['cat_type']=df_cat['item_category_name'].apply(lambda x: x.split('-')[0].strip())\n",
        "df_cat['sub_cat_type']=df_cat['item_category_name'].apply(lambda x: x.split('-')[-1].strip())\n",
        "\n",
        "df_cat['cat_type']= LabelEncoder().fit_transform(df_cat['cat_type'])\n",
        "df_cat['sub_cat_type']= LabelEncoder().fit_transform(df_cat['sub_cat_type'])"
      ],
      "execution_count": null,
      "outputs": []
    },
    {
      "cell_type": "code",
      "metadata": {
        "id": "WteovJnVxc19",
        "colab_type": "code",
        "colab": {}
      },
      "source": [
        "df_cat.drop('item_category_name', axis=1 , inplace=True)"
      ],
      "execution_count": null,
      "outputs": []
    },
    {
      "cell_type": "markdown",
      "metadata": {
        "id": "8HjpOSWJyG1R",
        "colab_type": "text"
      },
      "source": [
        "Exapnd shop\n",
        "\\\n",
        "city first head"
      ]
    },
    {
      "cell_type": "code",
      "metadata": {
        "id": "s-wQcYwOuzTR",
        "colab_type": "code",
        "colab": {
          "base_uri": "https://localhost:8080/",
          "height": 204
        },
        "outputId": "2dd6f682-9155-4cb5-b0e3-cc4519d436fe"
      },
      "source": [
        "df_shop.head()"
      ],
      "execution_count": null,
      "outputs": [
        {
          "output_type": "execute_result",
          "data": {
            "text/html": [
              "<div>\n",
              "<style scoped>\n",
              "    .dataframe tbody tr th:only-of-type {\n",
              "        vertical-align: middle;\n",
              "    }\n",
              "\n",
              "    .dataframe tbody tr th {\n",
              "        vertical-align: top;\n",
              "    }\n",
              "\n",
              "    .dataframe thead th {\n",
              "        text-align: right;\n",
              "    }\n",
              "</style>\n",
              "<table border=\"1\" class=\"dataframe\">\n",
              "  <thead>\n",
              "    <tr style=\"text-align: right;\">\n",
              "      <th></th>\n",
              "      <th>shop_name</th>\n",
              "      <th>shop_id</th>\n",
              "    </tr>\n",
              "  </thead>\n",
              "  <tbody>\n",
              "    <tr>\n",
              "      <th>0</th>\n",
              "      <td>!Якутск Орджоникидзе, 56 фран</td>\n",
              "      <td>0</td>\n",
              "    </tr>\n",
              "    <tr>\n",
              "      <th>1</th>\n",
              "      <td>!Якутск ТЦ \"Центральный\" фран</td>\n",
              "      <td>1</td>\n",
              "    </tr>\n",
              "    <tr>\n",
              "      <th>2</th>\n",
              "      <td>Адыгея ТЦ \"Мега\"</td>\n",
              "      <td>2</td>\n",
              "    </tr>\n",
              "    <tr>\n",
              "      <th>3</th>\n",
              "      <td>Балашиха ТРК \"Октябрь-Киномир\"</td>\n",
              "      <td>3</td>\n",
              "    </tr>\n",
              "    <tr>\n",
              "      <th>4</th>\n",
              "      <td>Волжский ТЦ \"Волга Молл\"</td>\n",
              "      <td>4</td>\n",
              "    </tr>\n",
              "  </tbody>\n",
              "</table>\n",
              "</div>"
            ],
            "text/plain": [
              "                        shop_name  shop_id\n",
              "0   !Якутск Орджоникидзе, 56 фран        0\n",
              "1   !Якутск ТЦ \"Центральный\" фран        1\n",
              "2                Адыгея ТЦ \"Мега\"        2\n",
              "3  Балашиха ТРК \"Октябрь-Киномир\"        3\n",
              "4        Волжский ТЦ \"Волга Молл\"        4"
            ]
          },
          "metadata": {
            "tags": []
          },
          "execution_count": 36
        }
      ]
    },
    {
      "cell_type": "code",
      "metadata": {
        "id": "g7FfmjtUuzQS",
        "colab_type": "code",
        "colab": {}
      },
      "source": [
        "df_shop['city_id'] = df_shop['shop_name'].apply(lambda x: x.split()[0])\n",
        "df_shop['city_id'] = LabelEncoder().fit_transform(df_shop['city_id'])"
      ],
      "execution_count": null,
      "outputs": []
    },
    {
      "cell_type": "code",
      "metadata": {
        "id": "M9hmGoB21wDW",
        "colab_type": "code",
        "colab": {}
      },
      "source": [
        "df_shop.drop('shop_name', axis=1, inplace=True)"
      ],
      "execution_count": null,
      "outputs": []
    },
    {
      "cell_type": "markdown",
      "metadata": {
        "id": "WNi4esmlzszS",
        "colab_type": "text"
      },
      "source": [
        "df_item"
      ]
    },
    {
      "cell_type": "code",
      "metadata": {
        "id": "L-0EtiZcTiw7",
        "colab_type": "code",
        "colab": {
          "base_uri": "https://localhost:8080/",
          "height": 204
        },
        "outputId": "c94726e7-79eb-42a0-90b8-20bf30245ec1"
      },
      "source": [
        "df_item.head()"
      ],
      "execution_count": null,
      "outputs": [
        {
          "output_type": "execute_result",
          "data": {
            "text/html": [
              "<div>\n",
              "<style scoped>\n",
              "    .dataframe tbody tr th:only-of-type {\n",
              "        vertical-align: middle;\n",
              "    }\n",
              "\n",
              "    .dataframe tbody tr th {\n",
              "        vertical-align: top;\n",
              "    }\n",
              "\n",
              "    .dataframe thead th {\n",
              "        text-align: right;\n",
              "    }\n",
              "</style>\n",
              "<table border=\"1\" class=\"dataframe\">\n",
              "  <thead>\n",
              "    <tr style=\"text-align: right;\">\n",
              "      <th></th>\n",
              "      <th>item_name</th>\n",
              "      <th>item_id</th>\n",
              "      <th>item_category_id</th>\n",
              "    </tr>\n",
              "  </thead>\n",
              "  <tbody>\n",
              "    <tr>\n",
              "      <th>0</th>\n",
              "      <td>! ВО ВЛАСТИ НАВАЖДЕНИЯ (ПЛАСТ.)         D</td>\n",
              "      <td>0</td>\n",
              "      <td>40</td>\n",
              "    </tr>\n",
              "    <tr>\n",
              "      <th>1</th>\n",
              "      <td>!ABBYY FineReader 12 Professional Edition Full...</td>\n",
              "      <td>1</td>\n",
              "      <td>76</td>\n",
              "    </tr>\n",
              "    <tr>\n",
              "      <th>2</th>\n",
              "      <td>***В ЛУЧАХ СЛАВЫ   (UNV)                    D</td>\n",
              "      <td>2</td>\n",
              "      <td>40</td>\n",
              "    </tr>\n",
              "    <tr>\n",
              "      <th>3</th>\n",
              "      <td>***ГОЛУБАЯ ВОЛНА  (Univ)                      D</td>\n",
              "      <td>3</td>\n",
              "      <td>40</td>\n",
              "    </tr>\n",
              "    <tr>\n",
              "      <th>4</th>\n",
              "      <td>***КОРОБКА (СТЕКЛО)                       D</td>\n",
              "      <td>4</td>\n",
              "      <td>40</td>\n",
              "    </tr>\n",
              "  </tbody>\n",
              "</table>\n",
              "</div>"
            ],
            "text/plain": [
              "                                           item_name  item_id  item_category_id\n",
              "0          ! ВО ВЛАСТИ НАВАЖДЕНИЯ (ПЛАСТ.)         D        0                40\n",
              "1  !ABBYY FineReader 12 Professional Edition Full...        1                76\n",
              "2      ***В ЛУЧАХ СЛАВЫ   (UNV)                    D        2                40\n",
              "3    ***ГОЛУБАЯ ВОЛНА  (Univ)                      D        3                40\n",
              "4        ***КОРОБКА (СТЕКЛО)                       D        4                40"
            ]
          },
          "metadata": {
            "tags": []
          },
          "execution_count": 39
        }
      ]
    },
    {
      "cell_type": "code",
      "metadata": {
        "id": "hJLdGJg5zvjl",
        "colab_type": "code",
        "colab": {}
      },
      "source": [
        "df_item.drop('item_name', axis=1, inplace=True)"
      ],
      "execution_count": null,
      "outputs": []
    },
    {
      "cell_type": "markdown",
      "metadata": {
        "id": "NmqSL5VdzVEi",
        "colab_type": "text"
      },
      "source": [
        "Combine to df"
      ]
    },
    {
      "cell_type": "code",
      "metadata": {
        "id": "kVBG9dYnuzNl",
        "colab_type": "code",
        "colab": {}
      },
      "source": [
        "mat = pd.merge(mat, df_item, how='left', on=['item_id'])\n",
        "mat = pd.merge(mat, df_cat, how='left', on=['item_category_id'])\n",
        "mat = pd.merge(mat, df_shop, how='left', on=['shop_id'])"
      ],
      "execution_count": null,
      "outputs": []
    },
    {
      "cell_type": "code",
      "metadata": {
        "id": "QQZ0Dq9rkjHE",
        "colab_type": "code",
        "colab": {}
      },
      "source": [
        "mat['month'] = mat['date_block_num'] % 12\n",
        "mat['month']=mat['month'].astype(np.int8)"
      ],
      "execution_count": null,
      "outputs": []
    },
    {
      "cell_type": "code",
      "metadata": {
        "id": "w4ZnNJoUuy5f",
        "colab_type": "code",
        "colab": {
          "base_uri": "https://localhost:8080/",
          "height": 306
        },
        "outputId": "a44f2568-b5a8-4eb5-d5ee-6fdc160c98d1"
      },
      "source": [
        "mat.info()"
      ],
      "execution_count": null,
      "outputs": [
        {
          "output_type": "stream",
          "text": [
            "<class 'pandas.core.frame.DataFrame'>\n",
            "Int64Index: 12418973 entries, 0 to 12418972\n",
            "Data columns (total 10 columns):\n",
            " #   Column            Dtype  \n",
            "---  ------            -----  \n",
            " 0   date_block_num    int64  \n",
            " 1   shop_id           int64  \n",
            " 2   item_id           int64  \n",
            " 3   item_cnt_month    float64\n",
            " 4   item_price        float32\n",
            " 5   item_category_id  int64  \n",
            " 6   cat_type          int64  \n",
            " 7   sub_cat_type      int64  \n",
            " 8   city_id           int64  \n",
            " 9   month             int8   \n",
            "dtypes: float32(1), float64(1), int64(7), int8(1)\n",
            "memory usage: 912.0 MB\n"
          ],
          "name": "stdout"
        }
      ]
    },
    {
      "cell_type": "code",
      "metadata": {
        "id": "0_I-wc2khlgt",
        "colab_type": "code",
        "colab": {
          "base_uri": "https://localhost:8080/",
          "height": 204
        },
        "outputId": "50f7d5d2-4ee3-46ee-f29a-5f6c9a033588"
      },
      "source": [
        "mat.isnull().sum()"
      ],
      "execution_count": null,
      "outputs": [
        {
          "output_type": "execute_result",
          "data": {
            "text/plain": [
              "date_block_num            0\n",
              "shop_id                   0\n",
              "item_id                   0\n",
              "item_cnt_month      9490484\n",
              "item_price          9291530\n",
              "item_category_id          0\n",
              "cat_type                  0\n",
              "sub_cat_type              0\n",
              "city_id                   0\n",
              "month                     0\n",
              "dtype: int64"
            ]
          },
          "metadata": {
            "tags": []
          },
          "execution_count": 44
        }
      ]
    },
    {
      "cell_type": "code",
      "metadata": {
        "id": "cEbIZWuml-wh",
        "colab_type": "code",
        "colab": {
          "base_uri": "https://localhost:8080/",
          "height": 297
        },
        "outputId": "b09e1745-bd94-405a-b6f7-f9976b7e0a29"
      },
      "source": [
        "mat.describe()"
      ],
      "execution_count": null,
      "outputs": [
        {
          "output_type": "execute_result",
          "data": {
            "text/html": [
              "<div>\n",
              "<style scoped>\n",
              "    .dataframe tbody tr th:only-of-type {\n",
              "        vertical-align: middle;\n",
              "    }\n",
              "\n",
              "    .dataframe tbody tr th {\n",
              "        vertical-align: top;\n",
              "    }\n",
              "\n",
              "    .dataframe thead th {\n",
              "        text-align: right;\n",
              "    }\n",
              "</style>\n",
              "<table border=\"1\" class=\"dataframe\">\n",
              "  <thead>\n",
              "    <tr style=\"text-align: right;\">\n",
              "      <th></th>\n",
              "      <th>date_block_num</th>\n",
              "      <th>shop_id</th>\n",
              "      <th>item_id</th>\n",
              "      <th>item_cnt_month</th>\n",
              "      <th>item_price</th>\n",
              "      <th>item_category_id</th>\n",
              "      <th>cat_type</th>\n",
              "      <th>sub_cat_type</th>\n",
              "      <th>city_id</th>\n",
              "      <th>month</th>\n",
              "    </tr>\n",
              "  </thead>\n",
              "  <tbody>\n",
              "    <tr>\n",
              "      <th>count</th>\n",
              "      <td>1.241897e+07</td>\n",
              "      <td>1.241897e+07</td>\n",
              "      <td>1.241897e+07</td>\n",
              "      <td>2.928489e+06</td>\n",
              "      <td>3.127443e+06</td>\n",
              "      <td>1.241897e+07</td>\n",
              "      <td>1.241897e+07</td>\n",
              "      <td>1.241897e+07</td>\n",
              "      <td>1.241897e+07</td>\n",
              "      <td>1.241897e+07</td>\n",
              "    </tr>\n",
              "    <tr>\n",
              "      <th>mean</th>\n",
              "      <td>1.523615e+01</td>\n",
              "      <td>3.164199e+01</td>\n",
              "      <td>1.112478e+04</td>\n",
              "      <td>7.405118e+00</td>\n",
              "      <td>8.981953e+02</td>\n",
              "      <td>4.422482e+01</td>\n",
              "      <td>1.089169e+01</td>\n",
              "      <td>2.072828e+01</td>\n",
              "      <td>1.641789e+01</td>\n",
              "      <td>5.281198e+00</td>\n",
              "    </tr>\n",
              "    <tr>\n",
              "      <th>std</th>\n",
              "      <td>9.706114e+00</td>\n",
              "      <td>1.715907e+01</td>\n",
              "      <td>6.250750e+03</td>\n",
              "      <td>2.981560e+01</td>\n",
              "      <td>1.730853e+03</td>\n",
              "      <td>1.558364e+01</td>\n",
              "      <td>2.987634e+00</td>\n",
              "      <td>2.068508e+01</td>\n",
              "      <td>7.960837e+00</td>\n",
              "      <td>3.443253e+00</td>\n",
              "    </tr>\n",
              "    <tr>\n",
              "      <th>min</th>\n",
              "      <td>0.000000e+00</td>\n",
              "      <td>2.000000e+00</td>\n",
              "      <td>0.000000e+00</td>\n",
              "      <td>1.000000e+00</td>\n",
              "      <td>7.000000e-02</td>\n",
              "      <td>0.000000e+00</td>\n",
              "      <td>0.000000e+00</td>\n",
              "      <td>0.000000e+00</td>\n",
              "      <td>1.000000e+00</td>\n",
              "      <td>0.000000e+00</td>\n",
              "    </tr>\n",
              "    <tr>\n",
              "      <th>25%</th>\n",
              "      <td>7.000000e+00</td>\n",
              "      <td>1.700000e+01</td>\n",
              "      <td>5.630000e+03</td>\n",
              "      <td>1.000000e+00</td>\n",
              "      <td>2.490000e+02</td>\n",
              "      <td>3.700000e+01</td>\n",
              "      <td>1.100000e+01</td>\n",
              "      <td>3.000000e+00</td>\n",
              "      <td>1.200000e+01</td>\n",
              "      <td>2.000000e+00</td>\n",
              "    </tr>\n",
              "    <tr>\n",
              "      <th>50%</th>\n",
              "      <td>1.500000e+01</td>\n",
              "      <td>3.100000e+01</td>\n",
              "      <td>1.116200e+04</td>\n",
              "      <td>2.000000e+00</td>\n",
              "      <td>3.990000e+02</td>\n",
              "      <td>4.000000e+01</td>\n",
              "      <td>1.100000e+01</td>\n",
              "      <td>1.400000e+01</td>\n",
              "      <td>1.400000e+01</td>\n",
              "      <td>5.000000e+00</td>\n",
              "    </tr>\n",
              "    <tr>\n",
              "      <th>75%</th>\n",
              "      <td>2.300000e+01</td>\n",
              "      <td>4.700000e+01</td>\n",
              "      <td>1.646700e+04</td>\n",
              "      <td>5.000000e+00</td>\n",
              "      <td>9.990000e+02</td>\n",
              "      <td>5.500000e+01</td>\n",
              "      <td>1.300000e+01</td>\n",
              "      <td>3.700000e+01</td>\n",
              "      <td>2.300000e+01</td>\n",
              "      <td>8.000000e+00</td>\n",
              "    </tr>\n",
              "    <tr>\n",
              "      <th>max</th>\n",
              "      <td>3.400000e+01</td>\n",
              "      <td>5.900000e+01</td>\n",
              "      <td>2.216900e+04</td>\n",
              "      <td>1.644000e+03</td>\n",
              "      <td>5.920000e+04</td>\n",
              "      <td>8.300000e+01</td>\n",
              "      <td>1.900000e+01</td>\n",
              "      <td>6.600000e+01</td>\n",
              "      <td>3.100000e+01</td>\n",
              "      <td>1.100000e+01</td>\n",
              "    </tr>\n",
              "  </tbody>\n",
              "</table>\n",
              "</div>"
            ],
            "text/plain": [
              "       date_block_num       shop_id  ...       city_id         month\n",
              "count    1.241897e+07  1.241897e+07  ...  1.241897e+07  1.241897e+07\n",
              "mean     1.523615e+01  3.164199e+01  ...  1.641789e+01  5.281198e+00\n",
              "std      9.706114e+00  1.715907e+01  ...  7.960837e+00  3.443253e+00\n",
              "min      0.000000e+00  2.000000e+00  ...  1.000000e+00  0.000000e+00\n",
              "25%      7.000000e+00  1.700000e+01  ...  1.200000e+01  2.000000e+00\n",
              "50%      1.500000e+01  3.100000e+01  ...  1.400000e+01  5.000000e+00\n",
              "75%      2.300000e+01  4.700000e+01  ...  2.300000e+01  8.000000e+00\n",
              "max      3.400000e+01  5.900000e+01  ...  3.100000e+01  1.100000e+01\n",
              "\n",
              "[8 rows x 10 columns]"
            ]
          },
          "metadata": {
            "tags": []
          },
          "execution_count": 46
        }
      ]
    },
    {
      "cell_type": "code",
      "metadata": {
        "id": "BP-o1925mbqk",
        "colab_type": "code",
        "colab": {
          "base_uri": "https://localhost:8080/",
          "height": 297
        },
        "outputId": "26f446ea-492c-4cf4-9d0d-50cecaf2f93d"
      },
      "source": [
        "mat.describe()"
      ],
      "execution_count": null,
      "outputs": [
        {
          "output_type": "execute_result",
          "data": {
            "text/html": [
              "<div>\n",
              "<style scoped>\n",
              "    .dataframe tbody tr th:only-of-type {\n",
              "        vertical-align: middle;\n",
              "    }\n",
              "\n",
              "    .dataframe tbody tr th {\n",
              "        vertical-align: top;\n",
              "    }\n",
              "\n",
              "    .dataframe thead th {\n",
              "        text-align: right;\n",
              "    }\n",
              "</style>\n",
              "<table border=\"1\" class=\"dataframe\">\n",
              "  <thead>\n",
              "    <tr style=\"text-align: right;\">\n",
              "      <th></th>\n",
              "      <th>date_block_num</th>\n",
              "      <th>shop_id</th>\n",
              "      <th>item_id</th>\n",
              "      <th>item_cnt_month</th>\n",
              "      <th>item_price</th>\n",
              "      <th>item_category_id</th>\n",
              "      <th>cat_type</th>\n",
              "      <th>sub_cat_type</th>\n",
              "      <th>city_id</th>\n",
              "      <th>month</th>\n",
              "    </tr>\n",
              "  </thead>\n",
              "  <tbody>\n",
              "    <tr>\n",
              "      <th>count</th>\n",
              "      <td>1.241897e+07</td>\n",
              "      <td>1.241897e+07</td>\n",
              "      <td>1.241897e+07</td>\n",
              "      <td>1.241897e+07</td>\n",
              "      <td>3.127443e+06</td>\n",
              "      <td>1.241897e+07</td>\n",
              "      <td>1.241897e+07</td>\n",
              "      <td>1.241897e+07</td>\n",
              "      <td>1.241897e+07</td>\n",
              "      <td>1.241897e+07</td>\n",
              "    </tr>\n",
              "    <tr>\n",
              "      <th>mean</th>\n",
              "      <td>1.523615e+01</td>\n",
              "      <td>3.164199e+01</td>\n",
              "      <td>1.112478e+04</td>\n",
              "      <td>1.746184e+00</td>\n",
              "      <td>8.981953e+02</td>\n",
              "      <td>4.422482e+01</td>\n",
              "      <td>1.089169e+01</td>\n",
              "      <td>2.072828e+01</td>\n",
              "      <td>1.641789e+01</td>\n",
              "      <td>5.281198e+00</td>\n",
              "    </tr>\n",
              "    <tr>\n",
              "      <th>std</th>\n",
              "      <td>9.706114e+00</td>\n",
              "      <td>1.715907e+01</td>\n",
              "      <td>6.250750e+03</td>\n",
              "      <td>1.481578e+01</td>\n",
              "      <td>1.730853e+03</td>\n",
              "      <td>1.558364e+01</td>\n",
              "      <td>2.987634e+00</td>\n",
              "      <td>2.068508e+01</td>\n",
              "      <td>7.960837e+00</td>\n",
              "      <td>3.443253e+00</td>\n",
              "    </tr>\n",
              "    <tr>\n",
              "      <th>min</th>\n",
              "      <td>0.000000e+00</td>\n",
              "      <td>2.000000e+00</td>\n",
              "      <td>0.000000e+00</td>\n",
              "      <td>0.000000e+00</td>\n",
              "      <td>7.000000e-02</td>\n",
              "      <td>0.000000e+00</td>\n",
              "      <td>0.000000e+00</td>\n",
              "      <td>0.000000e+00</td>\n",
              "      <td>1.000000e+00</td>\n",
              "      <td>0.000000e+00</td>\n",
              "    </tr>\n",
              "    <tr>\n",
              "      <th>25%</th>\n",
              "      <td>7.000000e+00</td>\n",
              "      <td>1.700000e+01</td>\n",
              "      <td>5.630000e+03</td>\n",
              "      <td>0.000000e+00</td>\n",
              "      <td>2.490000e+02</td>\n",
              "      <td>3.700000e+01</td>\n",
              "      <td>1.100000e+01</td>\n",
              "      <td>3.000000e+00</td>\n",
              "      <td>1.200000e+01</td>\n",
              "      <td>2.000000e+00</td>\n",
              "    </tr>\n",
              "    <tr>\n",
              "      <th>50%</th>\n",
              "      <td>1.500000e+01</td>\n",
              "      <td>3.100000e+01</td>\n",
              "      <td>1.116200e+04</td>\n",
              "      <td>0.000000e+00</td>\n",
              "      <td>3.990000e+02</td>\n",
              "      <td>4.000000e+01</td>\n",
              "      <td>1.100000e+01</td>\n",
              "      <td>1.400000e+01</td>\n",
              "      <td>1.400000e+01</td>\n",
              "      <td>5.000000e+00</td>\n",
              "    </tr>\n",
              "    <tr>\n",
              "      <th>75%</th>\n",
              "      <td>2.300000e+01</td>\n",
              "      <td>4.700000e+01</td>\n",
              "      <td>1.646700e+04</td>\n",
              "      <td>0.000000e+00</td>\n",
              "      <td>9.990000e+02</td>\n",
              "      <td>5.500000e+01</td>\n",
              "      <td>1.300000e+01</td>\n",
              "      <td>3.700000e+01</td>\n",
              "      <td>2.300000e+01</td>\n",
              "      <td>8.000000e+00</td>\n",
              "    </tr>\n",
              "    <tr>\n",
              "      <th>max</th>\n",
              "      <td>3.400000e+01</td>\n",
              "      <td>5.900000e+01</td>\n",
              "      <td>2.216900e+04</td>\n",
              "      <td>1.644000e+03</td>\n",
              "      <td>5.920000e+04</td>\n",
              "      <td>8.300000e+01</td>\n",
              "      <td>1.900000e+01</td>\n",
              "      <td>6.600000e+01</td>\n",
              "      <td>3.100000e+01</td>\n",
              "      <td>1.100000e+01</td>\n",
              "    </tr>\n",
              "  </tbody>\n",
              "</table>\n",
              "</div>"
            ],
            "text/plain": [
              "       date_block_num       shop_id  ...       city_id         month\n",
              "count    1.241897e+07  1.241897e+07  ...  1.241897e+07  1.241897e+07\n",
              "mean     1.523615e+01  3.164199e+01  ...  1.641789e+01  5.281198e+00\n",
              "std      9.706114e+00  1.715907e+01  ...  7.960837e+00  3.443253e+00\n",
              "min      0.000000e+00  2.000000e+00  ...  1.000000e+00  0.000000e+00\n",
              "25%      7.000000e+00  1.700000e+01  ...  1.200000e+01  2.000000e+00\n",
              "50%      1.500000e+01  3.100000e+01  ...  1.400000e+01  5.000000e+00\n",
              "75%      2.300000e+01  4.700000e+01  ...  2.300000e+01  8.000000e+00\n",
              "max      3.400000e+01  5.900000e+01  ...  3.100000e+01  1.100000e+01\n",
              "\n",
              "[8 rows x 10 columns]"
            ]
          },
          "metadata": {
            "tags": []
          },
          "execution_count": 73
        }
      ]
    },
    {
      "cell_type": "code",
      "metadata": {
        "id": "9uGfX72IqR2t",
        "colab_type": "code",
        "colab": {
          "base_uri": "https://localhost:8080/",
          "height": 306
        },
        "outputId": "2458953e-d2c6-4a30-8971-1a38384e5210"
      },
      "source": [
        "mat.info()"
      ],
      "execution_count": null,
      "outputs": [
        {
          "output_type": "stream",
          "text": [
            "<class 'pandas.core.frame.DataFrame'>\n",
            "Int64Index: 12418973 entries, 0 to 12418972\n",
            "Data columns (total 10 columns):\n",
            " #   Column            Dtype  \n",
            "---  ------            -----  \n",
            " 0   date_block_num    int64  \n",
            " 1   shop_id           int64  \n",
            " 2   item_id           int64  \n",
            " 3   item_cnt_month    float64\n",
            " 4   item_price        float32\n",
            " 5   item_category_id  int64  \n",
            " 6   cat_type          int64  \n",
            " 7   sub_cat_type      int64  \n",
            " 8   city_id           int64  \n",
            " 9   month             int8   \n",
            "dtypes: float32(1), float64(1), int64(7), int8(1)\n",
            "memory usage: 912.0 MB\n"
          ],
          "name": "stdout"
        }
      ]
    },
    {
      "cell_type": "code",
      "metadata": {
        "id": "eUlN88GIlFE_",
        "colab_type": "code",
        "colab": {}
      },
      "source": [
        "ls = mat.describe().loc['max']\n",
        "int_c = list(ls[ls<132].index)\n",
        "\n",
        "for n in int_c:\n",
        "  mat[n]= mat[n].astype(np.int8)\n",
        "\n",
        "mat['item_cnt_month'].fillna(0, inplace=True)\n",
        "mat['item_cnt_month'] = mat['item_cnt_month'].astype(np.int16)\n",
        "mat['item_id'] = mat['item_id'].astype(np.int16)"
      ],
      "execution_count": null,
      "outputs": []
    },
    {
      "cell_type": "code",
      "metadata": {
        "id": "FWhlOQeflAW-",
        "colab_type": "code",
        "colab": {
          "base_uri": "https://localhost:8080/",
          "height": 306
        },
        "outputId": "c6d5207e-61fc-462b-e635-7bc4cfa52714"
      },
      "source": [
        "mat.info()"
      ],
      "execution_count": null,
      "outputs": [
        {
          "output_type": "stream",
          "text": [
            "<class 'pandas.core.frame.DataFrame'>\n",
            "Int64Index: 12418973 entries, 0 to 12418972\n",
            "Data columns (total 10 columns):\n",
            " #   Column            Dtype  \n",
            "---  ------            -----  \n",
            " 0   date_block_num    int8   \n",
            " 1   shop_id           int8   \n",
            " 2   item_id           int16  \n",
            " 3   item_cnt_month    int16  \n",
            " 4   item_price        float32\n",
            " 5   item_category_id  int8   \n",
            " 6   cat_type          int8   \n",
            " 7   sub_cat_type      int8   \n",
            " 8   city_id           int8   \n",
            " 9   month             int8   \n",
            "dtypes: float32(1), int16(2), int8(7)\n",
            "memory usage: 272.4 MB\n"
          ],
          "name": "stdout"
        }
      ]
    },
    {
      "cell_type": "code",
      "metadata": {
        "id": "Tw6jH25GuyrO",
        "colab_type": "code",
        "colab": {}
      },
      "source": [
        "mat.to_pickle('/content/drive/My Drive/datasets/predict_sales_month/final_mat_1.pkl')"
      ],
      "execution_count": null,
      "outputs": []
    },
    {
      "cell_type": "code",
      "metadata": {
        "id": "8sZQmgtPuylx",
        "colab_type": "code",
        "colab": {}
      },
      "source": [
        ""
      ],
      "execution_count": null,
      "outputs": []
    },
    {
      "cell_type": "code",
      "metadata": {
        "id": "LnMN-QMouyjF",
        "colab_type": "code",
        "colab": {}
      },
      "source": [
        ""
      ],
      "execution_count": null,
      "outputs": []
    },
    {
      "cell_type": "code",
      "metadata": {
        "id": "-QSN0kxUUBD4",
        "colab_type": "code",
        "colab": {}
      },
      "source": [
        ""
      ],
      "execution_count": null,
      "outputs": []
    },
    {
      "cell_type": "code",
      "metadata": {
        "id": "7YwltHUEUA3M",
        "colab_type": "code",
        "colab": {}
      },
      "source": [
        ""
      ],
      "execution_count": null,
      "outputs": []
    }
  ]
}