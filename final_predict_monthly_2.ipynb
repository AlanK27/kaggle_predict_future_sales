{
  "nbformat": 4,
  "nbformat_minor": 0,
  "metadata": {
    "colab": {
      "name": "final_predict_monthly_2.ipynb",
      "provenance": [],
      "collapsed_sections": [],
      "mount_file_id": "1njdEnfQUl1v8tXX-NoIf1uDt8OQ3Y9e7",
      "authorship_tag": "ABX9TyMWl4cZJtfvgHRM9OPwAj8D"
    },
    "kernelspec": {
      "name": "python3",
      "display_name": "Python 3"
    }
  },
  "cells": [
    {
      "cell_type": "code",
      "metadata": {
        "id": "wkXm_0qrU9R7",
        "colab_type": "code",
        "colab": {
          "base_uri": "https://localhost:8080/",
          "height": 51
        },
        "outputId": "7f3885a8-31ac-4967-e369-591eb5340699"
      },
      "source": [
        "from itertools import product\n",
        "import matplotlib.pyplot as plt\n",
        "import numpy as np\n",
        "import pandas as pd\n",
        "import pickle\n",
        "import random\n",
        "import seaborn as sns\n",
        "from sklearn.preprocessing import LabelEncoder\n",
        "import time\n",
        "from zipfile import ZipFile"
      ],
      "execution_count": null,
      "outputs": [
        {
          "output_type": "stream",
          "text": [
            "/usr/local/lib/python3.6/dist-packages/statsmodels/tools/_testing.py:19: FutureWarning: pandas.util.testing is deprecated. Use the functions in the public API at pandas.testing instead.\n",
            "  import pandas.util.testing as tm\n"
          ],
          "name": "stderr"
        }
      ]
    },
    {
      "cell_type": "code",
      "metadata": {
        "id": "qrPDAaDLVDQi",
        "colab_type": "code",
        "colab": {}
      },
      "source": [
        "data = pd.read_pickle('/content/drive/My Drive/datasets/predict_sales_month/final_mat_1.pkl')"
      ],
      "execution_count": null,
      "outputs": []
    },
    {
      "cell_type": "code",
      "metadata": {
        "id": "s98koPT6VDPC",
        "colab_type": "code",
        "colab": {
          "base_uri": "https://localhost:8080/",
          "height": 204
        },
        "outputId": "ba0351c4-63c8-4c77-88c6-d263dfbee5f2"
      },
      "source": [
        "data.head()"
      ],
      "execution_count": null,
      "outputs": [
        {
          "output_type": "execute_result",
          "data": {
            "text/html": [
              "<div>\n",
              "<style scoped>\n",
              "    .dataframe tbody tr th:only-of-type {\n",
              "        vertical-align: middle;\n",
              "    }\n",
              "\n",
              "    .dataframe tbody tr th {\n",
              "        vertical-align: top;\n",
              "    }\n",
              "\n",
              "    .dataframe thead th {\n",
              "        text-align: right;\n",
              "    }\n",
              "</style>\n",
              "<table border=\"1\" class=\"dataframe\">\n",
              "  <thead>\n",
              "    <tr style=\"text-align: right;\">\n",
              "      <th></th>\n",
              "      <th>date_block_num</th>\n",
              "      <th>shop_id</th>\n",
              "      <th>item_id</th>\n",
              "      <th>item_cnt_month</th>\n",
              "      <th>item_price</th>\n",
              "      <th>item_category_id</th>\n",
              "      <th>cat_type</th>\n",
              "      <th>sub_cat_type</th>\n",
              "      <th>city_id</th>\n",
              "      <th>month</th>\n",
              "    </tr>\n",
              "  </thead>\n",
              "  <tbody>\n",
              "    <tr>\n",
              "      <th>0</th>\n",
              "      <td>0</td>\n",
              "      <td>59</td>\n",
              "      <td>22154</td>\n",
              "      <td>1</td>\n",
              "      <td>999.0</td>\n",
              "      <td>37</td>\n",
              "      <td>11</td>\n",
              "      <td>14</td>\n",
              "      <td>31</td>\n",
              "      <td>0</td>\n",
              "    </tr>\n",
              "    <tr>\n",
              "      <th>1</th>\n",
              "      <td>0</td>\n",
              "      <td>59</td>\n",
              "      <td>2552</td>\n",
              "      <td>0</td>\n",
              "      <td>NaN</td>\n",
              "      <td>58</td>\n",
              "      <td>13</td>\n",
              "      <td>29</td>\n",
              "      <td>31</td>\n",
              "      <td>0</td>\n",
              "    </tr>\n",
              "    <tr>\n",
              "      <th>2</th>\n",
              "      <td>0</td>\n",
              "      <td>59</td>\n",
              "      <td>2554</td>\n",
              "      <td>0</td>\n",
              "      <td>NaN</td>\n",
              "      <td>58</td>\n",
              "      <td>13</td>\n",
              "      <td>29</td>\n",
              "      <td>31</td>\n",
              "      <td>0</td>\n",
              "    </tr>\n",
              "    <tr>\n",
              "      <th>3</th>\n",
              "      <td>0</td>\n",
              "      <td>59</td>\n",
              "      <td>2555</td>\n",
              "      <td>0</td>\n",
              "      <td>NaN</td>\n",
              "      <td>56</td>\n",
              "      <td>13</td>\n",
              "      <td>2</td>\n",
              "      <td>31</td>\n",
              "      <td>0</td>\n",
              "    </tr>\n",
              "    <tr>\n",
              "      <th>4</th>\n",
              "      <td>0</td>\n",
              "      <td>59</td>\n",
              "      <td>2564</td>\n",
              "      <td>0</td>\n",
              "      <td>NaN</td>\n",
              "      <td>59</td>\n",
              "      <td>13</td>\n",
              "      <td>42</td>\n",
              "      <td>31</td>\n",
              "      <td>0</td>\n",
              "    </tr>\n",
              "  </tbody>\n",
              "</table>\n",
              "</div>"
            ],
            "text/plain": [
              "   date_block_num  shop_id  item_id  ...  sub_cat_type  city_id  month\n",
              "0               0       59    22154  ...            14       31      0\n",
              "1               0       59     2552  ...            29       31      0\n",
              "2               0       59     2554  ...            29       31      0\n",
              "3               0       59     2555  ...             2       31      0\n",
              "4               0       59     2564  ...            42       31      0\n",
              "\n",
              "[5 rows x 10 columns]"
            ]
          },
          "metadata": {
            "tags": []
          },
          "execution_count": 3
        }
      ]
    },
    {
      "cell_type": "code",
      "metadata": {
        "id": "-ERzroH_VDLh",
        "colab_type": "code",
        "colab": {
          "base_uri": "https://localhost:8080/",
          "height": 306
        },
        "outputId": "08a2ea46-efdb-4f5c-da96-7d6b66969e6f"
      },
      "source": [
        "data.info()"
      ],
      "execution_count": null,
      "outputs": [
        {
          "output_type": "stream",
          "text": [
            "<class 'pandas.core.frame.DataFrame'>\n",
            "Int64Index: 12418973 entries, 0 to 12418972\n",
            "Data columns (total 10 columns):\n",
            " #   Column            Dtype  \n",
            "---  ------            -----  \n",
            " 0   date_block_num    int8   \n",
            " 1   shop_id           int8   \n",
            " 2   item_id           int16  \n",
            " 3   item_cnt_month    int16  \n",
            " 4   item_price        float32\n",
            " 5   item_category_id  int8   \n",
            " 6   cat_type          int8   \n",
            " 7   sub_cat_type      int8   \n",
            " 8   city_id           int8   \n",
            " 9   month             int8   \n",
            "dtypes: float32(1), int16(2), int8(7)\n",
            "memory usage: 272.4 MB\n"
          ],
          "name": "stdout"
        }
      ]
    },
    {
      "cell_type": "code",
      "metadata": {
        "id": "l9J8x2GdfECn",
        "colab_type": "code",
        "colab": {
          "base_uri": "https://localhost:8080/",
          "height": 289
        },
        "outputId": "61dc810e-4b8f-4f5e-93f7-9d3e3e498c5c"
      },
      "source": [
        "df.isnull().sum()"
      ],
      "execution_count": null,
      "outputs": [
        {
          "output_type": "execute_result",
          "data": {
            "text/plain": [
              "date_block_num                 0\n",
              "shop_id                        0\n",
              "item_id                        0\n",
              "item_cnt_month                 0\n",
              "item_price               9291530\n",
              "item_category_id               0\n",
              "cat_type                       0\n",
              "sub_cat_type                   0\n",
              "city_id                        0\n",
              "month                          0\n",
              "item_cnt_month_lag_1     2510493\n",
              "item_cnt_month_lag_2     3166946\n",
              "item_cnt_month_lag_3     3785869\n",
              "item_cnt_month_lag_6     5442992\n",
              "item_cnt_month_lag_12    8059241\n",
              "dtype: int64"
            ]
          },
          "metadata": {
            "tags": []
          },
          "execution_count": 14
        }
      ]
    },
    {
      "cell_type": "code",
      "metadata": {
        "id": "s3RgsTr4VDF3",
        "colab_type": "code",
        "colab": {}
      },
      "source": [
        "cols = ['date_block_num', 'shop_id', 'item_id']\n",
        "\n",
        "def lag_feat(df, lagv, col):\n",
        "  df_v = df[['date_block_num', 'shop_id', 'item_id', col]]\n",
        "  \n",
        "  for lag in lagv:\n",
        "    df_s = df_v.copy()\n",
        "    df_s.date_block_num += lag\n",
        "    df_s.columns = ['date_block_num', 'shop_id', 'item_id', col+'_lag_'+str(lag)]\n",
        "    df = pd.merge(df, df_s, how='left', on = ['date_block_num', 'shop_id', 'item_id'])\n",
        "    df[col+'_lag_'+str(lag)] = df[col+'_lag_'+str(lag)].fillna(0).astype(np.int16)\n",
        "    df.drop_duplicates(inplace=True)\n",
        "\n",
        "  return df"
      ],
      "execution_count": null,
      "outputs": []
    },
    {
      "cell_type": "code",
      "metadata": {
        "id": "OU27QRSoVC2_",
        "colab_type": "code",
        "colab": {}
      },
      "source": [
        "df = lag_feat(data, [1,2,3,6,12], 'item_cnt_month')"
      ],
      "execution_count": null,
      "outputs": []
    },
    {
      "cell_type": "code",
      "metadata": {
        "id": "bUgcCl5ddwTM",
        "colab_type": "code",
        "colab": {
          "base_uri": "https://localhost:8080/",
          "height": 391
        },
        "outputId": "a6789e57-5411-4f49-baa6-19b7b7e70226"
      },
      "source": [
        "df.info()"
      ],
      "execution_count": null,
      "outputs": [
        {
          "output_type": "stream",
          "text": [
            "<class 'pandas.core.frame.DataFrame'>\n",
            "Int64Index: 11228346 entries, 0 to 12060171\n",
            "Data columns (total 15 columns):\n",
            " #   Column                 Dtype  \n",
            "---  ------                 -----  \n",
            " 0   date_block_num         int8   \n",
            " 1   shop_id                int8   \n",
            " 2   item_id                int16  \n",
            " 3   item_cnt_month         int16  \n",
            " 4   item_price             float32\n",
            " 5   item_category_id       int8   \n",
            " 6   cat_type               int8   \n",
            " 7   sub_cat_type           int8   \n",
            " 8   city_id                int8   \n",
            " 9   month                  int8   \n",
            " 10  item_cnt_month_lag_1   int16  \n",
            " 11  item_cnt_month_lag_2   int16  \n",
            " 12  item_cnt_month_lag_3   int16  \n",
            " 13  item_cnt_month_lag_6   int16  \n",
            " 14  item_cnt_month_lag_12  int16  \n",
            "dtypes: float32(1), int16(7), int8(7)\n",
            "memory usage: 353.4 MB\n"
          ],
          "name": "stdout"
        }
      ]
    },
    {
      "cell_type": "markdown",
      "metadata": {
        "id": "EIMCgv8jvqO-",
        "colab_type": "text"
      },
      "source": [
        "date/ mean cnt item"
      ]
    },
    {
      "cell_type": "code",
      "metadata": {
        "id": "UWRngzziVC0S",
        "colab_type": "code",
        "colab": {}
      },
      "source": [
        "ls = df.groupby(['date_block_num']).agg({'item_cnt_month':'mean'})\n",
        "ls.columns = ['mean_item_cnt_month']\n",
        "ls.reset_index(inplace=True)\n",
        "\n",
        "df = pd.merge(df, ls, how='left', on=['date_block_num'])\n",
        "df = lag_feat(df, [1], 'mean_item_cnt_month')\n",
        "df.drop('mean_item_cnt_month', axis=1, inplace=True)"
      ],
      "execution_count": null,
      "outputs": []
    },
    {
      "cell_type": "markdown",
      "metadata": {
        "id": "4877jYIgxZko",
        "colab_type": "text"
      },
      "source": [
        "date/ item_id mean"
      ]
    },
    {
      "cell_type": "code",
      "metadata": {
        "id": "5Z78by6AVCh7",
        "colab_type": "code",
        "colab": {}
      },
      "source": [
        "ls = df.groupby(['date_block_num', 'item_id']).agg({'item_cnt_month':'mean'})\n",
        "ls.columns = ['date_item_id_mean']\n",
        "ls.reset_index(inplace=True)\n",
        "\n",
        "df = pd.merge(df, ls, how='left', on=['date_block_num', 'item_id'])\n",
        "df = lag_feat(df, [1,2,3,6,12], 'date_item_id_mean')\n",
        "df.drop('date_item_id_mean', axis=1, inplace=True)"
      ],
      "execution_count": null,
      "outputs": []
    },
    {
      "cell_type": "markdown",
      "metadata": {
        "id": "DfWAwRelykhi",
        "colab_type": "text"
      },
      "source": [
        "date/ shop_id mean"
      ]
    },
    {
      "cell_type": "code",
      "metadata": {
        "id": "UqcmderDyjfN",
        "colab_type": "code",
        "colab": {}
      },
      "source": [
        "ls = df.groupby(['date_block_num', 'shop_id']).agg({'item_cnt_month':'mean'})\n",
        "ls.columns = ['date_shop_id_mean']\n",
        "ls.reset_index(inplace=True)\n",
        "\n",
        "df = pd.merge(df, ls, how='left', on=['date_block_num', 'shop_id'])\n",
        "df = lag_feat(df, [1,2,3,6,12], 'date_shop_id_mean')\n",
        "df.drop('date_shop_id_mean', axis=1, inplace=True)"
      ],
      "execution_count": null,
      "outputs": []
    },
    {
      "cell_type": "markdown",
      "metadata": {
        "id": "ccG9U3fXzU-Y",
        "colab_type": "text"
      },
      "source": [
        "revenue per shop_id\n",
        "\\\n",
        "date/ shop_id/ item_cat\n",
        "\\\n",
        "date/ shop_id/ cat_type\n",
        "\\\n",
        "date/ shop_id/ sub_cat\n",
        "\\\n",
        "date/ shop_id/ city_id\n",
        "\\\n",
        "date/ cat_type/ sub_cat\n",
        "\\\n",
        "date/ city_id\n",
        "\\\n",
        "date/ city_id\\ sub_cat_id\n",
        "\\\n",
        "date/ city_id\\ cat_type\n",
        "\\\n",
        "date/ city_id\\ item_cat_id"
      ]
    },
    {
      "cell_type": "code",
      "metadata": {
        "id": "Q7v6B_4f3uB8",
        "colab_type": "code",
        "colab": {}
      },
      "source": [
        "df['revenue'] = df['item_cnt_month'] * df['item_price']\n",
        "df['revenue'].fillna(0, inplace=True)\n",
        "df['revenue'] = df['revenue'].astype(np.float32)"
      ],
      "execution_count": null,
      "outputs": []
    },
    {
      "cell_type": "code",
      "metadata": {
        "id": "RqDWYvZ_ykFk",
        "colab_type": "code",
        "colab": {}
      },
      "source": [
        "ls = data.groupby(['date_block_num','shop_id']).agg({'item_cnt_month':'mean'})\n",
        "ls.columns = ['date_shop_mean_cnt_month']\n",
        "ls.reset_index(inplace=True)\n",
        "\n",
        "df = pd.merge(df, ls, how='left', on=['date_block_num','shop_id'])\n",
        "df = lag_feat(df, [1], 'date_shop_mean_cnt_month')\n",
        "df.drop('date_shop_mean_cnt_month', axis=1, inplace=True)"
      ],
      "execution_count": null,
      "outputs": []
    },
    {
      "cell_type": "code",
      "metadata": {
        "id": "7OwwDO6uyjxs",
        "colab_type": "code",
        "colab": {}
      },
      "source": [
        "ls = data.groupby(['date_block_num','shop_id','item_category_id']).agg({'item_cnt_month':'mean'})\n",
        "ls.columns = ['date_shop_category_mean_cnt_month']\n",
        "ls.reset_index(inplace=True)\n",
        "\n",
        "df = pd.merge(df, ls, how='left', on=['date_block_num','shop_id','item_category_id'])\n",
        "df = lag_feat(df, [1], 'date_shop_category_mean_cnt_month')\n",
        "df.drop('date_shop_category_mean_cnt_month', axis=1, inplace=True)"
      ],
      "execution_count": null,
      "outputs": []
    },
    {
      "cell_type": "code",
      "metadata": {
        "id": "ARVeYF06yjGq",
        "colab_type": "code",
        "colab": {}
      },
      "source": [
        "ls = data.groupby(['date_block_num','shop_id','cat_type']).agg({'item_cnt_month':'mean'})\n",
        "ls.columns = ['date_shop_cat_type_mean_cnt_month']\n",
        "ls.reset_index(inplace=True)\n",
        "\n",
        "df = pd.merge(df, ls, how='left', on=['date_block_num','shop_id','cat_type'])\n",
        "df = lag_feat(df, [1], 'date_shop_cat_type_mean_cnt_month')\n",
        "df.drop('date_shop_cat_type_mean_cnt_month', axis=1, inplace=True)"
      ],
      "execution_count": null,
      "outputs": []
    },
    {
      "cell_type": "code",
      "metadata": {
        "id": "Dpt1ALCN6c8U",
        "colab_type": "code",
        "colab": {}
      },
      "source": [
        "ls = data.groupby(['date_block_num','shop_id','sub_cat_type']).agg({'item_cnt_month':'mean'})\n",
        "ls.columns = ['date_shop_sub_cat_mean_cnt_month']\n",
        "ls.reset_index(inplace=True)\n",
        "\n",
        "df = pd.merge(df, ls, how='left', on=['date_block_num','shop_id','sub_cat_type'])\n",
        "df = lag_feat(df, [1], 'date_shop_sub_cat_mean_cnt_month')\n",
        "df.drop('date_shop_sub_cat_mean_cnt_month', axis=1, inplace=True)"
      ],
      "execution_count": null,
      "outputs": []
    },
    {
      "cell_type": "code",
      "metadata": {
        "id": "bnh3juZ86jNC",
        "colab_type": "code",
        "colab": {}
      },
      "source": [
        "ls = data.groupby(['date_block_num','shop_id','city_id']).agg({'item_cnt_month':'mean'})\n",
        "ls.columns = ['date_shop_city_id_mean_cnt_month']\n",
        "ls.reset_index(inplace=True)\n",
        "\n",
        "df = pd.merge(df, ls, how='left', on=['date_block_num','shop_id','city_id'])\n",
        "df = lag_feat(df, [1], 'date_shop_city_id_mean_cnt_month')\n",
        "df.drop('date_shop_city_id_mean_cnt_month', axis=1, inplace=True)"
      ],
      "execution_count": null,
      "outputs": []
    },
    {
      "cell_type": "code",
      "metadata": {
        "id": "iJbyLx9O6pfU",
        "colab_type": "code",
        "colab": {}
      },
      "source": [
        "ls = data.groupby(['date_block_num','cat_type', 'sub_cat_type']).agg({'item_cnt_month':'mean'})\n",
        "ls.columns = ['date_shop_cat_sub_cat_mean_cnt_month']\n",
        "ls.reset_index(inplace=True)\n",
        "\n",
        "df = pd.merge(df, ls, how='left', on=['date_block_num','cat_type', 'sub_cat_type'])\n",
        "df = lag_feat(df, [1], 'date_shop_cat_sub_cat_mean_cnt_month')\n",
        "df.drop('date_shop_cat_sub_cat_mean_cnt_month', axis=1, inplace=True)"
      ],
      "execution_count": null,
      "outputs": []
    },
    {
      "cell_type": "code",
      "metadata": {
        "id": "gaSxmddy6y7S",
        "colab_type": "code",
        "colab": {}
      },
      "source": [
        "ls = data.groupby(['date_block_num','city_id']).agg({'item_cnt_month':'mean'})\n",
        "ls.columns = ['date_city_id_mean_cnt_month']\n",
        "ls.reset_index(inplace=True)\n",
        "\n",
        "df = pd.merge(df, ls, how='left', on=['date_block_num','city_id'])\n",
        "df = lag_feat(df, [1], 'date_city_id_mean_cnt_month')\n",
        "df.drop('date_city_id_mean_cnt_month', axis=1, inplace=True)"
      ],
      "execution_count": null,
      "outputs": []
    },
    {
      "cell_type": "code",
      "metadata": {
        "id": "DzmL_2iD67xf",
        "colab_type": "code",
        "colab": {}
      },
      "source": [
        "ls = data.groupby(['date_block_num','city_id', 'sub_cat_type']).agg({'item_cnt_month':'mean'})\n",
        "ls.columns = ['date_city_id_sub_cat_mean_cnt_month']\n",
        "ls.reset_index(inplace=True)\n",
        "\n",
        "df = pd.merge(df, ls, how='left', on=['date_block_num','city_id', 'sub_cat_type'])\n",
        "df = lag_feat(df, [1], 'date_city_id_sub_cat_mean_cnt_month')\n",
        "df.drop('date_city_id_sub_cat_mean_cnt_month', axis=1, inplace=True)"
      ],
      "execution_count": null,
      "outputs": []
    },
    {
      "cell_type": "code",
      "metadata": {
        "id": "GGecj0W47MFI",
        "colab_type": "code",
        "colab": {}
      },
      "source": [
        "ls = data.groupby(['date_block_num','city_id', 'cat_type']).agg({'item_cnt_month':'mean'})\n",
        "ls.columns = ['date_city_id_cat_mean_cnt_month']\n",
        "ls.reset_index(inplace=True)\n",
        "\n",
        "df = pd.merge(df, ls, how='left', on=['date_block_num','city_id', 'cat_type'])\n",
        "df = lag_feat(df, [1], 'date_city_id_cat_mean_cnt_month')\n",
        "df.drop('date_city_id_cat_mean_cnt_month', axis=1, inplace=True)"
      ],
      "execution_count": null,
      "outputs": []
    },
    {
      "cell_type": "code",
      "metadata": {
        "id": "CbDN7FonyikZ",
        "colab_type": "code",
        "colab": {
          "base_uri": "https://localhost:8080/",
          "height": 663
        },
        "outputId": "c53a85bd-9575-430f-b019-95463f8f985d"
      },
      "source": [
        "df.info()"
      ],
      "execution_count": null,
      "outputs": [
        {
          "output_type": "stream",
          "text": [
            "<class 'pandas.core.frame.DataFrame'>\n",
            "Int64Index: 11228346 entries, 0 to 11490598\n",
            "Data columns (total 31 columns):\n",
            " #   Column                                      Dtype  \n",
            "---  ------                                      -----  \n",
            " 0   date_block_num                              int8   \n",
            " 1   shop_id                                     int8   \n",
            " 2   item_id                                     int16  \n",
            " 3   item_cnt_month                              int16  \n",
            " 4   item_price                                  float32\n",
            " 5   item_category_id                            int8   \n",
            " 6   cat_type                                    int8   \n",
            " 7   sub_cat_type                                int8   \n",
            " 8   city_id                                     int8   \n",
            " 9   month                                       int8   \n",
            " 10  item_cnt_month_lag_1                        int16  \n",
            " 11  item_cnt_month_lag_2                        int16  \n",
            " 12  item_cnt_month_lag_3                        int16  \n",
            " 13  item_cnt_month_lag_6                        int16  \n",
            " 14  item_cnt_month_lag_12                       int16  \n",
            " 15  mean_item_cnt_month_lag_1                   int16  \n",
            " 16  date_shop_id_mean_lag_1                     int16  \n",
            " 17  date_shop_id_mean_lag_2                     int16  \n",
            " 18  date_shop_id_mean_lag_3                     int16  \n",
            " 19  date_shop_id_mean_lag_6                     int16  \n",
            " 20  date_shop_id_mean_lag_12                    int16  \n",
            " 21  revenue                                     float32\n",
            " 22  date_shop_mean_cnt_month_lag_1              int16  \n",
            " 23  date_shop_category_mean_cnt_month_lag_1     int16  \n",
            " 24  date_shop_cat_type_mean_cnt_month_lag_1     int16  \n",
            " 25  date_shop_sub_cat_mean_cnt_month_lag_1      int16  \n",
            " 26  date_shop_city_id_mean_cnt_month_lag_1      int16  \n",
            " 27  date_shop_cat_sub_cat_mean_cnt_month_lag_1  int16  \n",
            " 28  date_city_id_mean_cnt_month_lag_1           int16  \n",
            " 29  date_city_id_sub_cat_mean_cnt_month_lag_1   int16  \n",
            " 30  date_city_id_cat_mean_cnt_month_lag_1       int16  \n",
            "dtypes: float32(2), int16(22), int8(7)\n",
            "memory usage: 717.4 MB\n"
          ],
          "name": "stdout"
        }
      ]
    },
    {
      "cell_type": "code",
      "metadata": {
        "id": "12EQC5ofl9N-",
        "colab_type": "code",
        "colab": {}
      },
      "source": [
        "df.drop('revenue', axis=1, inplace=True)"
      ],
      "execution_count": null,
      "outputs": []
    },
    {
      "cell_type": "code",
      "metadata": {
        "id": "EtZl-L8ML1bY",
        "colab_type": "code",
        "colab": {}
      },
      "source": [
        "ls = df.groupby(['item_id']).agg({'item_price':'mean'})\n",
        "ls.columns = ['item_mean_price']\n",
        "ls.reset_index(inplace=True)\n",
        "ls['item_mean_price'] = ls['item_mean_price'].astype(np.float16)\n",
        "\n",
        "df = pd.merge(df, ls, how='left', on=['item_id'])"
      ],
      "execution_count": null,
      "outputs": []
    },
    {
      "cell_type": "code",
      "metadata": {
        "id": "73u_O7jeL1Xw",
        "colab_type": "code",
        "colab": {}
      },
      "source": [
        "ls = df.groupby(['date_block_num', 'item_id']).agg({'item_price': 'mean'})\n",
        "ls.columns = ['date_item_mean_price']\n",
        "ls['date_item_mean_price'] = ls['date_item_mean_price'].astype(np.float16)\n",
        "ls.reset_index(inplace=True)\n",
        "\n",
        "df = pd.merge(df, ls, how='left', on=['date_block_num', 'item_id'])"
      ],
      "execution_count": null,
      "outputs": []
    },
    {
      "cell_type": "code",
      "metadata": {
        "id": "-ToElwwHOhdf",
        "colab_type": "code",
        "colab": {}
      },
      "source": [
        "df = lag_feat(df, [1,2,3,6], 'date_item_mean_price')"
      ],
      "execution_count": null,
      "outputs": []
    },
    {
      "cell_type": "code",
      "metadata": {
        "id": "jQiU72RrQbk4",
        "colab_type": "code",
        "colab": {}
      },
      "source": [
        "for i in [1,2,3,6]:\n",
        "    df['delta_price_lag_'+str(i)] = \\\n",
        "        (df['date_item_mean_price_lag_'+str(i)] - df['item_mean_price']) / df['item_mean_price']"
      ],
      "execution_count": null,
      "outputs": []
    },
    {
      "cell_type": "code",
      "metadata": {
        "id": "mLj15-uhRfWe",
        "colab_type": "code",
        "colab": {}
      },
      "source": [
        "def select_trend(row):\n",
        "    for i in [1,2,3,6]:\n",
        "        if row['delta_price_lag_'+str(i)]:\n",
        "            return row['delta_price_lag_'+str(i)]\n",
        "    return 0\n",
        "    \n",
        "df['delta_price_lag'] = df.apply(select_trend, axis=1)\n",
        "df['delta_price_lag'] = df['delta_price_lag'].astype(np.float16)\n",
        "df['delta_price_lag'].fillna(0, inplace=True)"
      ],
      "execution_count": null,
      "outputs": []
    },
    {
      "cell_type": "code",
      "metadata": {
        "id": "YJIComOHR0V_",
        "colab_type": "code",
        "colab": {}
      },
      "source": [
        "fetures_to_drop = ['item_mean_price', 'date_item_mean_price']\n",
        "for i in [1,2,3,6]:\n",
        "    fetures_to_drop += ['date_item_mean_price_lag_'+str(i)]\n",
        "    fetures_to_drop += ['delta_price_lag_'+str(i)]\n",
        "\n",
        "df.drop(fetures_to_drop, axis=1, inplace=True)"
      ],
      "execution_count": null,
      "outputs": []
    },
    {
      "cell_type": "code",
      "metadata": {
        "id": "72qHNYqwM_xh",
        "colab_type": "code",
        "colab": {
          "base_uri": "https://localhost:8080/",
          "height": 663
        },
        "outputId": "655c1b02-70b0-445e-b525-679d31e3a92f"
      },
      "source": [
        "df.info()"
      ],
      "execution_count": null,
      "outputs": [
        {
          "output_type": "stream",
          "text": [
            "<class 'pandas.core.frame.DataFrame'>\n",
            "Int64Index: 11228346 entries, 0 to 11412345\n",
            "Data columns (total 31 columns):\n",
            " #   Column                                      Dtype  \n",
            "---  ------                                      -----  \n",
            " 0   date_block_num                              int8   \n",
            " 1   shop_id                                     int8   \n",
            " 2   item_id                                     int16  \n",
            " 3   item_cnt_month                              int16  \n",
            " 4   item_price                                  float32\n",
            " 5   item_category_id                            int8   \n",
            " 6   cat_type                                    int8   \n",
            " 7   sub_cat_type                                int8   \n",
            " 8   city_id                                     int8   \n",
            " 9   month                                       int8   \n",
            " 10  item_cnt_month_lag_1                        int16  \n",
            " 11  item_cnt_month_lag_2                        int16  \n",
            " 12  item_cnt_month_lag_3                        int16  \n",
            " 13  item_cnt_month_lag_6                        int16  \n",
            " 14  item_cnt_month_lag_12                       int16  \n",
            " 15  mean_item_cnt_month_lag_1                   int16  \n",
            " 16  date_shop_id_mean_lag_1                     int16  \n",
            " 17  date_shop_id_mean_lag_2                     int16  \n",
            " 18  date_shop_id_mean_lag_3                     int16  \n",
            " 19  date_shop_id_mean_lag_6                     int16  \n",
            " 20  date_shop_id_mean_lag_12                    int16  \n",
            " 21  date_shop_mean_cnt_month_lag_1              int16  \n",
            " 22  date_shop_category_mean_cnt_month_lag_1     int16  \n",
            " 23  date_shop_cat_type_mean_cnt_month_lag_1     int16  \n",
            " 24  date_shop_sub_cat_mean_cnt_month_lag_1      int16  \n",
            " 25  date_shop_city_id_mean_cnt_month_lag_1      int16  \n",
            " 26  date_shop_cat_sub_cat_mean_cnt_month_lag_1  int16  \n",
            " 27  date_city_id_mean_cnt_month_lag_1           int16  \n",
            " 28  date_city_id_sub_cat_mean_cnt_month_lag_1   int16  \n",
            " 29  date_city_id_cat_mean_cnt_month_lag_1       int16  \n",
            " 30  delta_price_lag                             float16\n",
            "dtypes: float16(1), float32(1), int16(22), int8(7)\n",
            "memory usage: 696.0 MB\n"
          ],
          "name": "stdout"
        }
      ]
    },
    {
      "cell_type": "code",
      "metadata": {
        "id": "JNJro4X5NAEf",
        "colab_type": "code",
        "colab": {}
      },
      "source": [
        "import category_encoders as ce\n",
        "\n",
        "ls = ['date_block_num', 'shop_id', 'item_id','city_id', 'month']\n",
        "\n",
        "for n in ls:\n",
        "  encoder = ce.BinaryEncoder(cols=[n])\n",
        "  df = encoder.fit_transform(df)"
      ],
      "execution_count": null,
      "outputs": []
    },
    {
      "cell_type": "code",
      "metadata": {
        "id": "41yA7DhJNACa",
        "colab_type": "code",
        "colab": {}
      },
      "source": [
        ""
      ],
      "execution_count": null,
      "outputs": []
    },
    {
      "cell_type": "code",
      "metadata": {
        "id": "9YUnpJLbM__c",
        "colab_type": "code",
        "colab": {}
      },
      "source": [
        ""
      ],
      "execution_count": null,
      "outputs": []
    },
    {
      "cell_type": "code",
      "metadata": {
        "id": "XRBTy1NjM_82",
        "colab_type": "code",
        "colab": {}
      },
      "source": [
        ""
      ],
      "execution_count": null,
      "outputs": []
    },
    {
      "cell_type": "code",
      "metadata": {
        "id": "zIan_J1vOezn",
        "colab_type": "code",
        "colab": {}
      },
      "source": [
        "df.to_pickle('/content/drive/My Drive/datasets/predict_sales_month/df_final_monthly_2.pkl')"
      ],
      "execution_count": null,
      "outputs": []
    },
    {
      "cell_type": "markdown",
      "metadata": {
        "id": "QIx1fs2WVNuS",
        "colab_type": "text"
      },
      "source": [
        "XGB Model"
      ]
    },
    {
      "cell_type": "code",
      "metadata": {
        "id": "FxKeeIiIVxkU",
        "colab_type": "code",
        "colab": {}
      },
      "source": [
        "df = pd.read_pickle('/content/drive/My Drive/datasets/predict_sales_month/df_final_monthly_2.pkl')"
      ],
      "execution_count": null,
      "outputs": []
    },
    {
      "cell_type": "code",
      "metadata": {
        "id": "t05y6JTxVQDe",
        "colab_type": "code",
        "colab": {}
      },
      "source": [
        "df.info()"
      ],
      "execution_count": null,
      "outputs": []
    },
    {
      "cell_type": "code",
      "metadata": {
        "id": "0k0nREJtyird",
        "colab_type": "code",
        "colab": {}
      },
      "source": [
        "X_train = df[(df.date_block_num >12) & (df.date_block_num <33 )].drop('item_cnt_month', axis=1)\n",
        "y_train = df[(df.date_block_num >12) & (df.date_block_num <33 )].item_cnt_month\n",
        "X_test = df[df.date_block_num == 33].drop('item_cnt_month', axis =1)\n",
        "y_test = df[df.date_block_num ==33].item_cnt_month\n",
        "X_vad = df[df.date_block_num == 34].drop('item_cnt_month', axis =1)"
      ],
      "execution_count": null,
      "outputs": []
    },
    {
      "cell_type": "code",
      "metadata": {
        "id": "f7DlIqHjK7nE",
        "colab_type": "code",
        "colab": {}
      },
      "source": [
        "X_train.info()"
      ],
      "execution_count": null,
      "outputs": []
    },
    {
      "cell_type": "code",
      "metadata": {
        "id": "FS5DRU5QiUp4",
        "colab_type": "code",
        "colab": {}
      },
      "source": [
        "del df"
      ],
      "execution_count": null,
      "outputs": []
    },
    {
      "cell_type": "code",
      "metadata": {
        "id": "kYfX1G1aVCT5",
        "colab_type": "code",
        "colab": {}
      },
      "source": [
        "from xgboost import XGBRegressor\n",
        "from xgboost import plot_importance"
      ],
      "execution_count": null,
      "outputs": []
    },
    {
      "cell_type": "code",
      "metadata": {
        "id": "9V4ytDcyVCQ3",
        "colab_type": "code",
        "colab": {}
      },
      "source": [
        "model = XGBRegressor(\n",
        "    max_depth=8,\n",
        "    n_estimators=500,\n",
        "    eval_metric=\"rmse\", \n",
        "    subsample=1, \n",
        "    eta=0.3,    \n",
        "    seed=42)"
      ],
      "execution_count": null,
      "outputs": []
    },
    {
      "cell_type": "code",
      "metadata": {
        "id": "_GidGA94VCN9",
        "colab_type": "code",
        "colab": {
          "base_uri": "https://localhost:8080/",
          "height": 510
        },
        "outputId": "8e93e2ab-c0fb-4088-d467-e14acc992893"
      },
      "source": [
        "model.fit(\n",
        "    X_train, \n",
        "    y_train, \n",
        "    eval_set=[(X_train, y_train), (X_test, y_test)], \n",
        "    verbose=True, \n",
        "    early_stopping_rounds = 10)"
      ],
      "execution_count": null,
      "outputs": [
        {
          "output_type": "stream",
          "text": [
            "[23:40:53] WARNING: /workspace/src/objective/regression_obj.cu:152: reg:linear is now deprecated in favor of reg:squarederror.\n",
            "[23:40:53] WARNING: /workspace/src/learner.cc:686: Tree method is automatically selected to be 'approx' for faster speed. To use old behavior (exact greedy algorithm on single machine), set tree_method to 'exact'.\n",
            "[0]\tvalidation_0-rmse:5.68127\tvalidation_1-rmse:3.28581\n",
            "Multiple eval metrics have been passed: 'validation_1-rmse' will be used for early stopping.\n",
            "\n",
            "Will train until validation_1-rmse hasn't improved in 10 rounds.\n",
            "[1]\tvalidation_0-rmse:5.31278\tvalidation_1-rmse:3.0866\n",
            "[2]\tvalidation_0-rmse:4.9976\tvalidation_1-rmse:3.0577\n",
            "[3]\tvalidation_0-rmse:4.71131\tvalidation_1-rmse:3.10735\n",
            "[4]\tvalidation_0-rmse:4.4616\tvalidation_1-rmse:3.28821\n",
            "[5]\tvalidation_0-rmse:4.23889\tvalidation_1-rmse:3.45498\n",
            "[6]\tvalidation_0-rmse:4.04955\tvalidation_1-rmse:3.72793\n",
            "[7]\tvalidation_0-rmse:3.87519\tvalidation_1-rmse:4.04612\n",
            "[8]\tvalidation_0-rmse:3.71767\tvalidation_1-rmse:4.30304\n",
            "[9]\tvalidation_0-rmse:3.57441\tvalidation_1-rmse:4.5736\n",
            "[10]\tvalidation_0-rmse:3.45003\tvalidation_1-rmse:4.7195\n",
            "[11]\tvalidation_0-rmse:3.31744\tvalidation_1-rmse:4.96066\n",
            "[12]\tvalidation_0-rmse:3.20041\tvalidation_1-rmse:5.11791\n",
            "Stopping. Best iteration:\n",
            "[2]\tvalidation_0-rmse:4.9976\tvalidation_1-rmse:3.0577\n",
            "\n"
          ],
          "name": "stdout"
        },
        {
          "output_type": "execute_result",
          "data": {
            "text/plain": [
              "XGBRegressor(base_score=0.5, booster='gbtree', colsample_bylevel=1,\n",
              "             colsample_bynode=1, colsample_bytree=1, eta=0.3,\n",
              "             eval_metric='rmse', gamma=0, importance_type='gain',\n",
              "             learning_rate=0.1, max_delta_step=0, max_depth=8,\n",
              "             min_child_weight=1, missing=None, n_estimators=500, n_jobs=1,\n",
              "             nthread=None, objective='reg:linear', random_state=0, reg_alpha=0,\n",
              "             reg_lambda=1, scale_pos_weight=1, seed=42, silent=None,\n",
              "             subsample=1, verbosity=1)"
            ]
          },
          "metadata": {
            "tags": []
          },
          "execution_count": 9
        }
      ]
    },
    {
      "cell_type": "code",
      "metadata": {
        "id": "80AfsoGVIhqz",
        "colab_type": "code",
        "colab": {
          "base_uri": "https://localhost:8080/",
          "height": 856
        },
        "outputId": "4344b5a8-beca-4e9c-d8d4-0057297cca70"
      },
      "source": [
        "def plot_features(booster, figsize):    \n",
        "    fig, ax = plt.subplots(1,1,figsize=figsize)\n",
        "    return plot_importance(booster=booster, ax=ax)\n",
        "\n",
        "plot_features(model, (10,14))"
      ],
      "execution_count": null,
      "outputs": [
        {
          "output_type": "execute_result",
          "data": {
            "text/plain": [
              "<matplotlib.axes._subplots.AxesSubplot at 0x7f11ba3585f8>"
            ]
          },
          "metadata": {
            "tags": []
          },
          "execution_count": 10
        },
        {
          "output_type": "display_data",
          "data": {
            "image/png": "[encoded data removed]",
            "text/plain": [
              "<Figure size 720x1008 with 1 Axes>"
            ]
          },
          "metadata": {
            "tags": [],
            "needs_background": "light"
          }
        }
      ]
    },
    {
      "cell_type": "code",
      "metadata": {
        "id": "eNLs_oaSIhcH",
        "colab_type": "code",
        "colab": {}
      },
      "source": [
        "Y_pred = model.predict(X_test)"
      ],
      "execution_count": null,
      "outputs": []
    },
    {
      "cell_type": "code",
      "metadata": {
        "id": "48hznmHqIhSy",
        "colab_type": "code",
        "colab": {}
      },
      "source": [
        ""
      ],
      "execution_count": null,
      "outputs": []
    }
  ]
}